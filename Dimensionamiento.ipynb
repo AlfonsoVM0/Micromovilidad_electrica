{
 "cells": [
  {
   "cell_type": "markdown",
   "id": "e8bd2ec7-ff77-4204-b93e-13984ad3a705",
   "metadata": {},
   "source": [
    "### Simulación de un día"
   ]
  },
  {
   "cell_type": "code",
   "execution_count": 17,
   "id": "19a36391-97e9-41d8-9f32-89bb9ca61e4b",
   "metadata": {},
   "outputs": [],
   "source": [
    "import plotly.express as px\n",
    "import plotly.graph_objects as go\n",
    "import pandas as pd\n",
    "import numpy as npA\n",
    "from datetime import timedelta, datetime\n",
    "from ipywidgets import interact, widgets\n",
    "import matplotlib.pyplot as plt\n",
    "import matplotlib.colors as mcolors\n",
    "from matplotlib.colors import ListedColormap\n",
    "import matplotlib.cm as cm\n",
    "import seaborn as sns\n",
    "import os\n",
    "import folium\n",
    "from folium.plugins import HeatMap\n",
    "from folium.plugins import HeatMapWithTime\n",
    "import datetime\n",
    "from sklearn.cluster import KMeans\n",
    "from geopy.distance import geodesic \n",
    "import warnings\n",
    "from collections import defaultdict\n",
    "import requests\n",
    "import numpy as np"
   ]
  },
  {
   "cell_type": "markdown",
   "id": "8ff2c623-0244-49e0-842e-ccfd9cf74645",
   "metadata": {},
   "source": [
    "#### 40 estaciones"
   ]
  },
  {
   "cell_type": "code",
   "execution_count": 33,
   "id": "d58e8e02-c5ba-4671-9473-a9b7b28e51b6",
   "metadata": {},
   "outputs": [
    {
     "name": "stdout",
     "output_type": "stream",
     "text": [
      "                   ts  nodo     tipo\n",
      "0 2021-02-26 00:15:23     2   origen\n",
      "1 2021-02-26 00:36:54    23   origen\n",
      "2 2021-02-26 00:38:43    23  destino\n",
      "3 2021-02-26 00:55:44    28   origen\n",
      "4 2021-02-26 00:59:43     2  destino\n"
     ]
    },
    {
     "data": {
      "text/plain": [
       "(None, 1110, 2220)"
      ]
     },
     "execution_count": 33,
     "metadata": {},
     "output_type": "execute_result"
    }
   ],
   "source": [
    "df = pd.read_csv(\"df_with_clusters.csv\")\n",
    "df['tsD'] = pd.to_datetime(df['tsD'], format='%d/%m/%Y %H:%M:%S', dayfirst=True)\n",
    "df['tsO'] = pd.to_datetime(df['tsO'], format='%Y-%m-%d %H:%M:%S', dayfirst=False)\n",
    "\n",
    "# Filtrar los datos para usar solo los del día 26 de febrero de 2021 \n",
    "df = df[(df['tsO'].dt.date == pd.to_datetime('2021-02-26').date())]\n",
    "# Dividir el DataFrame en dos y hacer copias para evitar el SettingWithCopyWarning\n",
    "df_tsO_clusterO = df[['tsO', 'clusterO']].copy()\n",
    "df_tsD_clusterD = df[['tsD', 'clusterD']].copy()\n",
    "\n",
    "# Añadir columna 'tipo' para indicar si es un cluster de origen o destino\n",
    "df_tsO_clusterO['tipo'] = 'origen'\n",
    "df_tsD_clusterD['tipo'] = 'destino'\n",
    "\n",
    "# Renombrar columnas para que tengan un nombre común ('ts' y 'cluster')\n",
    "df_tsO_clusterO.rename(columns={'tsO': 'ts', 'clusterO': 'nodo'}, inplace=True)\n",
    "df_tsD_clusterD.rename(columns={'tsD': 'ts', 'clusterD': 'nodo'}, inplace=True)\n",
    "\n",
    "# Concatenar ambos DataFrames\n",
    "df_combinado = pd.concat([df_tsO_clusterO, df_tsD_clusterD], ignore_index=True)\n",
    "\n",
    "# Ordenar por la columna temporal 'ts'\n",
    "df_combinado.sort_values(by='ts', inplace=True)\n",
    "\n",
    "# Restablecer el índice\n",
    "df_combinado.reset_index(drop=True, inplace=True)\n",
    "# Verificar el resultado\n",
    "print(df_combinado.head()), len(df), len(df_combinado)\n"
   ]
  },
  {
   "cell_type": "code",
   "execution_count": 35,
   "id": "b7da4f1b-668e-40da-a7f3-d6b819ca6497",
   "metadata": {},
   "outputs": [
    {
     "name": "stdout",
     "output_type": "stream",
     "text": [
      "Simulación terminada\n",
      "Resultados guardados en dimensiones.csv\n",
      "Total de patinetes usados: 168\n"
     ]
    }
   ],
   "source": [
    "# Inicializar las estaciones\n",
    "num_estaciones = 40\n",
    "estaciones = {\n",
    "    i: {\n",
    "        \"patinetes_iniciales\":1,\n",
    "        \"patinetes_disponibles\": 1,  # Inicialmente un patinete\n",
    "        \"slots\": 1  # Inicialmente un slot\n",
    "    }\n",
    "    for i in range(num_estaciones)\n",
    "}\n",
    "\n",
    "# Simulación de eventos\n",
    "for _, evento in df_combinado.iterrows():\n",
    "    nodo = evento['nodo']\n",
    "    tipo = evento['tipo']\n",
    "\n",
    "    if tipo == 'origen':\n",
    "        # Si es una salida, disminuir el número de patinetes disponibles\n",
    "        if estaciones[nodo]['patinetes_disponibles'] > 0:\n",
    "            estaciones[nodo]['patinetes_disponibles'] -= 1\n",
    "        else:\n",
    "            # Si no hay patinetes disponibles, aumentar el número de patinetes iniciales y slots (si fuese necesario)\n",
    "            estaciones[nodo]['patinetes_iniciales'] += 1\n",
    "            estaciones[nodo]['patinetes_disponibles'] = 0 #Se mantiene en 0 -> el patinete inicial adicional es el que se usa para al viaje\n",
    "            if estaciones[nodo]['patinetes_iniciales'] > estaciones[nodo]['slots']:\n",
    "                estaciones[nodo]['slots'] += 1\n",
    "\n",
    "    elif tipo == 'destino':\n",
    "        # Si es una llegada, aumentar el número de patinetes disponibles\n",
    "        if estaciones[nodo]['patinetes_disponibles'] < estaciones[nodo]['slots']:\n",
    "            estaciones[nodo]['patinetes_disponibles'] += 1\n",
    "        else:\n",
    "            # Si todos los slots están ocupados, aumentar el número de slots \n",
    "            estaciones[nodo]['slots'] += 1\n",
    "            estaciones[nodo]['patinetes_disponibles'] += 1\n",
    "            \n",
    "print(\"Simulación terminada\")\n",
    "# Guardar los resultados en un archivo CSV\n",
    "resultados = []\n",
    "for nodo, datos in estaciones.items():\n",
    "    resultados.append({\n",
    "        'estacion': nodo,\n",
    "        'patinetes_iniciales': datos['patinetes_iniciales'],\n",
    "        'slots': datos['slots'],\n",
    "        'patinetes_finales': datos['patinetes_disponibles'] \n",
    "    })\n",
    "\n",
    "resultados_df = pd.DataFrame(resultados)\n",
    "resultados_df.to_csv('dimensiones.csv', index=False)\n",
    "print(\"Resultados guardados en dimensiones.csv\")\n",
    "print(f\"Total de patinetes usados: {resultados_df['patinetes_iniciales'].sum()}\")"
   ]
  },
  {
   "cell_type": "markdown",
   "id": "75a5c5fb-f692-4503-9da3-a2b4b4e56a15",
   "metadata": {},
   "source": [
    "#### 79 estaciones"
   ]
  },
  {
   "cell_type": "code",
   "execution_count": 38,
   "id": "dc3b33b1-d5d6-45a2-be03-9a54a5e48a0c",
   "metadata": {},
   "outputs": [
    {
     "name": "stdout",
     "output_type": "stream",
     "text": [
      "                   ts  nodo     tipo\n",
      "0 2021-02-26 00:15:23    20   origen\n",
      "1 2021-02-26 00:36:54     9   origen\n",
      "2 2021-02-26 00:38:43     9  destino\n",
      "3 2021-02-26 00:55:44    56   origen\n",
      "4 2021-02-26 00:59:43    20  destino\n"
     ]
    },
    {
     "data": {
      "text/plain": [
       "(None, 1108, 2216)"
      ]
     },
     "execution_count": 38,
     "metadata": {},
     "output_type": "execute_result"
    }
   ],
   "source": [
    "df = pd.read_csv(\"df_with_clusters2.csv\")\n",
    "df['tsD'] = pd.to_datetime(df['tsD'], format='%d/%m/%Y %H:%M:%S', dayfirst=True)\n",
    "df['tsO'] = pd.to_datetime(df['tsO'], format='%Y-%m-%d %H:%M:%S', dayfirst=False)\n",
    "\n",
    "# Filtrar los datos para usar solo los del día 26 de febrero de 2021 \n",
    "df = df[(df['tsO'].dt.date == pd.to_datetime('2021-02-26').date())]\n",
    "# Dividir el DataFrame en dos y hacer copias para evitar el SettingWithCopyWarning\n",
    "df_tsO_clusterO = df[['tsO', 'clusterO']].copy()\n",
    "df_tsD_clusterD = df[['tsD', 'clusterD']].copy()\n",
    "\n",
    "# Añadir columna 'tipo' para indicar si es un cluster de origen o destino\n",
    "df_tsO_clusterO['tipo'] = 'origen'\n",
    "df_tsD_clusterD['tipo'] = 'destino'\n",
    "\n",
    "# Renombrar columnas para que tengan un nombre común ('ts' y 'cluster')\n",
    "df_tsO_clusterO.rename(columns={'tsO': 'ts', 'clusterO': 'nodo'}, inplace=True)\n",
    "df_tsD_clusterD.rename(columns={'tsD': 'ts', 'clusterD': 'nodo'}, inplace=True)\n",
    "\n",
    "# Concatenar ambos DataFrames\n",
    "df_combinado = pd.concat([df_tsO_clusterO, df_tsD_clusterD], ignore_index=True)\n",
    "\n",
    "# Ordenar por la columna temporal 'ts'\n",
    "df_combinado.sort_values(by='ts', inplace=True)\n",
    "\n",
    "# Restablecer el índice\n",
    "df_combinado.reset_index(drop=True, inplace=True)\n",
    "# Verificar el resultado\n",
    "print(df_combinado.head()), len(df), len(df_combinado)\n"
   ]
  },
  {
   "cell_type": "code",
   "execution_count": 40,
   "id": "176fcca7-5846-41e8-93f7-ce5a0e5d6bfe",
   "metadata": {},
   "outputs": [
    {
     "name": "stdout",
     "output_type": "stream",
     "text": [
      "Simulación terminada\n",
      "Resultados guardados en dimensiones2.csv\n",
      "Total de patinetes usados: 243\n"
     ]
    }
   ],
   "source": [
    "# Inicializar las estaciones\n",
    "num_estaciones = 79\n",
    "estaciones = {\n",
    "    i: {\n",
    "        \"patinetes_iniciales\":1,\n",
    "        \"patinetes_disponibles\": 1,  # Inicialmente un patinete\n",
    "        \"slots\": 1  # Inicialmente un slot\n",
    "    }\n",
    "    for i in range(num_estaciones)\n",
    "}\n",
    "\n",
    "# Simulación de eventos\n",
    "for _, evento in df_combinado.iterrows():\n",
    "    nodo = evento['nodo']\n",
    "    tipo = evento['tipo']\n",
    "\n",
    "    if tipo == 'origen':\n",
    "        # Si es una salida, disminuir el número de patinetes disponibles\n",
    "        if estaciones[nodo]['patinetes_disponibles'] > 0:\n",
    "            estaciones[nodo]['patinetes_disponibles'] -= 1\n",
    "        else:\n",
    "            # Si no hay patinetes disponibles, aumentar el número de patinetes iniciales y slots (si fuese necesario)\n",
    "            estaciones[nodo]['patinetes_iniciales'] += 1\n",
    "            estaciones[nodo]['patinetes_disponibles'] = 0 #Se mantiene en 0 -> el patinete inicial adicional es el que se usa para al viaje\n",
    "            if estaciones[nodo]['patinetes_iniciales'] > estaciones[nodo]['slots']:\n",
    "                estaciones[nodo]['slots'] += 1\n",
    "\n",
    "    elif tipo == 'destino':\n",
    "        # Si es una llegada, aumentar el número de patinetes disponibles\n",
    "        if estaciones[nodo]['patinetes_disponibles'] < estaciones[nodo]['slots']:\n",
    "            estaciones[nodo]['patinetes_disponibles'] += 1\n",
    "        else:\n",
    "            # Si todos los slots están ocupados, aumentar el número de slots \n",
    "            estaciones[nodo]['slots'] += 1\n",
    "            estaciones[nodo]['patinetes_disponibles'] += 1\n",
    "            \n",
    "print(\"Simulación terminada\")\n",
    "# Guardar los resultados en un archivo CSV\n",
    "resultados = []\n",
    "for nodo, datos in estaciones.items():\n",
    "    resultados.append({\n",
    "        'estacion': nodo,\n",
    "        'patinetes_iniciales': datos['patinetes_iniciales'],\n",
    "        'slots': datos['slots'],\n",
    "        'patinetes_finales': datos['patinetes_disponibles'] \n",
    "    })\n",
    "\n",
    "resultados_df = pd.DataFrame(resultados)\n",
    "resultados_df.to_csv('dimensiones2.csv', index=False)\n",
    "print(\"Resultados guardados en dimensiones2.csv\")\n",
    "print(f\"Total de patinetes usados: {resultados_df['patinetes_iniciales'].sum()}\")"
   ]
  },
  {
   "cell_type": "markdown",
   "id": "6ad48f62-8f98-4280-aeb8-d19a01ab724e",
   "metadata": {},
   "source": [
    "### Simulación semanal"
   ]
  },
  {
   "cell_type": "markdown",
   "id": "58a56838-0a19-4f8a-84ed-e8f24cb90f27",
   "metadata": {},
   "source": [
    "#### 40 estaciones\n"
   ]
  },
  {
   "cell_type": "code",
   "execution_count": 43,
   "id": "a95c1ffc-cbd1-401c-9bb1-43aa28129cb8",
   "metadata": {},
   "outputs": [
    {
     "name": "stdout",
     "output_type": "stream",
     "text": [
      "                   ts  nodo     tipo\n",
      "0 2021-02-01 00:21:03     8   origen\n",
      "1 2021-02-01 00:22:03     0  destino\n",
      "2 2021-02-01 03:49:03    18   origen\n",
      "3 2021-02-01 03:50:33    18  destino\n",
      "4 2021-02-01 05:17:34    21   origen\n"
     ]
    },
    {
     "data": {
      "text/plain": [
       "(None, 5458, 10916)"
      ]
     },
     "execution_count": 43,
     "metadata": {},
     "output_type": "execute_result"
    }
   ],
   "source": [
    "# Cargar datos desde el archivo CSV\n",
    "df = pd.read_csv(\"df_with_clusters.csv\")\n",
    "df['tsD'] = pd.to_datetime(df['tsD'], format='%d/%m/%Y %H:%M:%S', dayfirst=True)\n",
    "df['tsO'] = pd.to_datetime(df['tsO'], format='%Y-%m-%d %H:%M:%S', dayfirst=False)\n",
    "\n",
    "# Filtrar los datos para usar solo los eventos entre el 1 de febrero y el 7 de febrero de 2021\n",
    "start_date = pd.to_datetime('2021-02-01')\n",
    "end_date = pd.to_datetime('2021-02-07')\n",
    "\n",
    "df = df[(df['tsO'].dt.date >= start_date.date()) & (df['tsO'].dt.date <= end_date.date())]\n",
    "\n",
    "# Dividir el DataFrame en dos y hacer copias para evitar el SettingWithCopyWarning\n",
    "df_tsO_clusterO = df[['tsO', 'clusterO']].copy()\n",
    "df_tsD_clusterD = df[['tsD', 'clusterD']].copy()\n",
    "\n",
    "# Añadir columna 'tipo' para indicar si es un cluster de origen o destino\n",
    "df_tsO_clusterO['tipo'] = 'origen'\n",
    "df_tsD_clusterD['tipo'] = 'destino'\n",
    "\n",
    "# Renombrar columnas para que tengan un nombre común ('ts' y 'cluster')\n",
    "df_tsO_clusterO.rename(columns={'tsO': 'ts', 'clusterO': 'nodo'}, inplace=True)\n",
    "df_tsD_clusterD.rename(columns={'tsD': 'ts', 'clusterD': 'nodo'}, inplace=True)\n",
    "\n",
    "# Concatenar ambos DataFrames\n",
    "df_combinado = pd.concat([df_tsO_clusterO, df_tsD_clusterD], ignore_index=True)\n",
    "\n",
    "# Ordenar por la columna temporal 'ts'\n",
    "df_combinado.sort_values(by='ts', inplace=True)\n",
    "\n",
    "# Restablecer el índice\n",
    "df_combinado.reset_index(drop=True, inplace=True)\n",
    "# Verificar el resultado\n",
    "print(df_combinado.head()), len(df), len(df_combinado)"
   ]
  },
  {
   "cell_type": "code",
   "execution_count": 45,
   "id": "ff3748f2-1940-4fb5-abd4-7e2e2755298a",
   "metadata": {},
   "outputs": [
    {
     "name": "stdout",
     "output_type": "stream",
     "text": [
      "Simulación terminada\n",
      "Resultados guardados en dimensiones3.csv\n",
      "Total de patinetes usados: 338\n"
     ]
    }
   ],
   "source": [
    "# Inicializar las estaciones\n",
    "num_estaciones = 40\n",
    "estaciones = {\n",
    "    i: {\n",
    "        \"patinetes_iniciales\":1,\n",
    "        \"patinetes_disponibles\": 1,  # Inicialmente un patinete\n",
    "        \"slots\": 1  # Inicialmente un slot\n",
    "    }\n",
    "    for i in range(num_estaciones)\n",
    "}\n",
    "\n",
    "# Simulación de eventos\n",
    "for _, evento in df_combinado.iterrows():\n",
    "    nodo = evento['nodo']\n",
    "    tipo = evento['tipo']\n",
    "\n",
    "    if tipo == 'origen':\n",
    "        # Si es una salida, disminuir el número de patinetes disponibles\n",
    "        if estaciones[nodo]['patinetes_disponibles'] > 0:\n",
    "            estaciones[nodo]['patinetes_disponibles'] -= 1\n",
    "        else:\n",
    "            # Si no hay patinetes disponibles, aumentar el número de patinetes iniciales y slots (si fuese necesario)\n",
    "            estaciones[nodo]['patinetes_iniciales'] += 1\n",
    "            estaciones[nodo]['patinetes_disponibles'] = 0 #Se mantiene en 0 -> el patinete inicial adicional es el que se usa para al viaje\n",
    "            if estaciones[nodo]['patinetes_iniciales'] > estaciones[nodo]['slots']:\n",
    "                estaciones[nodo]['slots'] += 1\n",
    "\n",
    "    elif tipo == 'destino':\n",
    "        # Si es una llegada, aumentar el número de patinetes disponibles\n",
    "        if estaciones[nodo]['patinetes_disponibles'] < estaciones[nodo]['slots']:\n",
    "            estaciones[nodo]['patinetes_disponibles'] += 1\n",
    "        else:\n",
    "            # Si todos los slots están ocupados, aumentar el número de slots \n",
    "            estaciones[nodo]['slots'] += 1\n",
    "            estaciones[nodo]['patinetes_disponibles'] += 1\n",
    "            \n",
    "print(\"Simulación terminada\")\n",
    "# Guardar los resultados en un archivo CSV\n",
    "resultados = []\n",
    "for nodo, datos in estaciones.items():\n",
    "    resultados.append({\n",
    "        'estacion': nodo,\n",
    "        'patinetes_iniciales': datos['patinetes_iniciales'],\n",
    "        'slots': datos['slots'],\n",
    "        'patinetes_finales': datos['patinetes_disponibles'] \n",
    "    })\n",
    "\n",
    "resultados_df = pd.DataFrame(resultados)\n",
    "resultados_df.to_csv('dimensiones3.csv', index=False)\n",
    "print(\"Resultados guardados en dimensiones3.csv\")\n",
    "print(f\"Total de patinetes usados: {resultados_df['patinetes_iniciales'].sum()}\")"
   ]
  },
  {
   "cell_type": "markdown",
   "id": "dbfa6395-f8f4-4f3d-8efb-ee443026d29d",
   "metadata": {},
   "source": [
    "#### 79 estaciones"
   ]
  },
  {
   "cell_type": "code",
   "execution_count": 59,
   "id": "9b3769f1-47ff-4440-b2b2-848fcfdfe5c5",
   "metadata": {},
   "outputs": [
    {
     "name": "stdout",
     "output_type": "stream",
     "text": [
      "                   ts  nodo     tipo\n",
      "0 2021-02-01 00:21:03    33   origen\n",
      "1 2021-02-01 00:22:03    14  destino\n",
      "2 2021-02-01 03:49:03    43   origen\n",
      "3 2021-02-01 03:50:33    43  destino\n",
      "4 2021-02-01 05:17:34    45   origen\n"
     ]
    },
    {
     "data": {
      "text/plain": [
       "(None, 5439, 10878)"
      ]
     },
     "execution_count": 59,
     "metadata": {},
     "output_type": "execute_result"
    }
   ],
   "source": [
    "# Cargar datos desde el archivo CSV\n",
    "df = pd.read_csv(\"df_with_clusters2.csv\")\n",
    "df['tsD'] = pd.to_datetime(df['tsD'], format='%d/%m/%Y %H:%M:%S', dayfirst=True)\n",
    "df['tsO'] = pd.to_datetime(df['tsO'], format='%Y-%m-%d %H:%M:%S', dayfirst=False)\n",
    "\n",
    "# Filtrar los datos para usar solo los eventos entre el 1 de febrero y el 7 de febrero de 2021\n",
    "start_date = pd.to_datetime('2021-02-01')\n",
    "end_date = pd.to_datetime('2021-02-07')\n",
    "\n",
    "df = df[(df['tsO'].dt.date >= start_date.date()) & (df['tsO'].dt.date <= end_date.date())]\n",
    "\n",
    "# Dividir el DataFrame en dos y hacer copias para evitar el SettingWithCopyWarning\n",
    "df_tsO_clusterO = df[['tsO', 'clusterO']].copy()\n",
    "df_tsD_clusterD = df[['tsD', 'clusterD']].copy()\n",
    "\n",
    "# Añadir columna 'tipo' para indicar si es un cluster de origen o destino\n",
    "df_tsO_clusterO['tipo'] = 'origen'\n",
    "df_tsD_clusterD['tipo'] = 'destino'\n",
    "\n",
    "# Renombrar columnas para que tengan un nombre común ('ts' y 'cluster')\n",
    "df_tsO_clusterO.rename(columns={'tsO': 'ts', 'clusterO': 'nodo'}, inplace=True)\n",
    "df_tsD_clusterD.rename(columns={'tsD': 'ts', 'clusterD': 'nodo'}, inplace=True)\n",
    "\n",
    "# Concatenar ambos DataFrames\n",
    "df_combinado = pd.concat([df_tsO_clusterO, df_tsD_clusterD], ignore_index=True)\n",
    "\n",
    "# Ordenar por la columna temporal 'ts'\n",
    "df_combinado.sort_values(by='ts', inplace=True)\n",
    "\n",
    "# Restablecer el índice\n",
    "df_combinado.reset_index(drop=True, inplace=True)\n",
    "# Verificar el resultado\n",
    "print(df_combinado.head()), len(df), len(df_combinado)"
   ]
  },
  {
   "cell_type": "code",
   "execution_count": 61,
   "id": "d4f9e4ae-409d-4e34-9965-6443e08ddf5d",
   "metadata": {},
   "outputs": [
    {
     "name": "stdout",
     "output_type": "stream",
     "text": [
      "Simulación terminada\n",
      "Resultados guardados en dimensiones4.csv\n",
      "Total de patinetes usados: 547\n"
     ]
    }
   ],
   "source": [
    "# Inicializar las estaciones\n",
    "num_estaciones = 79\n",
    "estaciones = {\n",
    "    i: {\n",
    "        \"patinetes_iniciales\":1,\n",
    "        \"patinetes_disponibles\": 1,  # Inicialmente un patinete\n",
    "        \"slots\": 1  # Inicialmente un slot\n",
    "    }\n",
    "    for i in range(num_estaciones)\n",
    "}\n",
    "\n",
    "# Simulación de eventos\n",
    "for _, evento in df_combinado.iterrows():\n",
    "    nodo = evento['nodo']\n",
    "    tipo = evento['tipo']\n",
    "\n",
    "    if tipo == 'origen':\n",
    "        # Si es una salida, disminuir el número de patinetes disponibles\n",
    "        if estaciones[nodo]['patinetes_disponibles'] > 0:\n",
    "            estaciones[nodo]['patinetes_disponibles'] -= 1\n",
    "        else:\n",
    "            # Si no hay patinetes disponibles, aumentar el número de patinetes iniciales y slots (si fuese necesario)\n",
    "            estaciones[nodo]['patinetes_iniciales'] += 1\n",
    "            estaciones[nodo]['patinetes_disponibles'] = 0 #Se mantiene en 0 -> el patinete inicial adicional es el que se usa para al viaje\n",
    "            if estaciones[nodo]['patinetes_iniciales'] > estaciones[nodo]['slots']:\n",
    "                estaciones[nodo]['slots'] += 1\n",
    "\n",
    "    elif tipo == 'destino':\n",
    "        # Si es una llegada, aumentar el número de patinetes disponibles\n",
    "        if estaciones[nodo]['patinetes_disponibles'] < estaciones[nodo]['slots']:\n",
    "            estaciones[nodo]['patinetes_disponibles'] += 1\n",
    "        else:\n",
    "            # Si todos los slots están ocupados, aumentar el número de slots \n",
    "            estaciones[nodo]['slots'] += 1\n",
    "            estaciones[nodo]['patinetes_disponibles'] += 1\n",
    "            \n",
    "print(\"Simulación terminada\")\n",
    "# Guardar los resultados en un archivo CSV\n",
    "resultados = []\n",
    "for nodo, datos in estaciones.items():\n",
    "    resultados.append({\n",
    "        'estacion': nodo,\n",
    "        'patinetes_iniciales': datos['patinetes_iniciales'],\n",
    "        'slots': datos['slots'],\n",
    "        'patinetes_finales': datos['patinetes_disponibles'] \n",
    "    })\n",
    "\n",
    "resultados_df = pd.DataFrame(resultados)\n",
    "resultados_df.to_csv('dimensiones4.csv', index=False)\n",
    "print(\"Resultados guardados en dimensiones4.csv\")\n",
    "print(f\"Total de patinetes usados: {resultados_df['patinetes_iniciales'].sum()}\")"
   ]
  },
  {
   "cell_type": "markdown",
   "id": "ac897b29-f04c-482f-be54-b6f67a3671d7",
   "metadata": {},
   "source": [
    "### Simulación de un mes entero"
   ]
  },
  {
   "cell_type": "markdown",
   "id": "835b6378-9b4f-435e-9853-c0775bcbcddd",
   "metadata": {},
   "source": [
    "#### 40 estaciones"
   ]
  },
  {
   "cell_type": "code",
   "execution_count": 40,
   "id": "2a6793b7-b127-4fad-9b69-4d376437488a",
   "metadata": {},
   "outputs": [
    {
     "name": "stdout",
     "output_type": "stream",
     "text": [
      "                   ts  nodo     tipo\n",
      "0 2021-02-01 00:21:03     8   origen\n",
      "1 2021-02-01 00:22:03     0  destino\n",
      "2 2021-02-01 03:49:03    18   origen\n",
      "3 2021-02-01 03:50:33    18  destino\n",
      "4 2021-02-01 05:17:34    21   origen\n"
     ]
    },
    {
     "data": {
      "text/plain": [
       "(None, 23984, 47968)"
      ]
     },
     "execution_count": 40,
     "metadata": {},
     "output_type": "execute_result"
    }
   ],
   "source": [
    "# Leer el archivo CSV\n",
    "df = pd.read_csv(\"df_with_clusters.csv\")\n",
    "df['tsD'] = pd.to_datetime(df['tsD'], format='%d/%m/%Y %H:%M:%S', dayfirst=True)\n",
    "df['tsO'] = pd.to_datetime(df['tsO'], format='%Y-%m-%d %H:%M:%S', dayfirst=False)\n",
    "\n",
    "# Crear DataFrame combinado\n",
    "df_tsO_clusterO = df[['tsO', 'clusterO']].copy()\n",
    "df_tsD_clusterD = df[['tsD', 'clusterD']].copy()\n",
    "\n",
    "df_tsO_clusterO['tipo'] = 'origen'\n",
    "df_tsD_clusterD['tipo'] = 'destino'\n",
    "\n",
    "df_tsO_clusterO.rename(columns={'tsO': 'ts', 'clusterO': 'nodo'}, inplace=True)\n",
    "df_tsD_clusterD.rename(columns={'tsD': 'ts', 'clusterD': 'nodo'}, inplace=True)\n",
    "\n",
    "df_combinado = pd.concat([df_tsO_clusterO, df_tsD_clusterD], ignore_index=True)\n",
    "df_combinado.sort_values(by='ts', inplace=True)\n",
    "df_combinado.reset_index(drop=True, inplace=True)\n",
    "print(df_combinado.head()), len(df), len(df_combinado)"
   ]
  },
  {
   "cell_type": "code",
   "execution_count": 42,
   "id": "1601b65f-e9aa-46a6-af48-1a66981b7db3",
   "metadata": {},
   "outputs": [
    {
     "name": "stdout",
     "output_type": "stream",
     "text": [
      "Simulación terminada\n",
      "Resultados guardados en dimensiones_mes1.csv\n",
      "Total de patinetes usados: 364\n"
     ]
    }
   ],
   "source": [
    "# Inicializar las estaciones\n",
    "from datetime import datetime as dt, timedelta\n",
    "# Inicializar las estaciones\n",
    "num_estaciones = 40\n",
    "estaciones = {\n",
    "    i: {\n",
    "        \"patinetes_iniciales\":1,\n",
    "        \"patinetes_disponibles\": 1,  # Inicialmente un patinete\n",
    "        \"slots\": 1  # Inicialmente un slot\n",
    "    }\n",
    "    for i in range(num_estaciones)\n",
    "}\n",
    "\n",
    "# Filtrar datos por día y simular\n",
    "inicio_mes = dt(2021, 2, 1)\n",
    "fin_mes = dt(2021, 2, 28)\n",
    "\n",
    "for dia in range((fin_mes - inicio_mes).days + 1):\n",
    "    fecha_actual = inicio_mes + timedelta(days=dia)\n",
    "    siguiente_dia = fecha_actual + timedelta(days=1)\n",
    "\n",
    "    # Filtrar datos del día actual\n",
    "    df_dia = df_combinado[(df_combinado['ts'] >= fecha_actual) & (df_combinado['ts'] < siguiente_dia)]\n",
    "\n",
    "    # Simular eventos\n",
    "    for _, evento in df_dia.iterrows():\n",
    "        nodo = evento['nodo']\n",
    "        \n",
    "        tipo = evento['tipo']\n",
    "\n",
    "        if tipo == 'origen':\n",
    "            if estaciones[nodo]['patinetes_disponibles'] > 0:\n",
    "                estaciones[nodo]['patinetes_disponibles'] -= 1\n",
    "            else:\n",
    "                estaciones[nodo]['patinetes_iniciales'] += 1\n",
    "                estaciones[nodo]['patinetes_disponibles'] = 0\n",
    "                if estaciones[nodo]['patinetes_iniciales'] > estaciones[nodo]['slots']:\n",
    "                    estaciones[nodo]['slots'] += 1\n",
    "\n",
    "        elif tipo == 'destino':\n",
    "            if estaciones[nodo]['patinetes_disponibles'] < estaciones[nodo]['slots']:\n",
    "                estaciones[nodo]['patinetes_disponibles'] += 1\n",
    "            else:\n",
    "                estaciones[nodo]['slots'] += 1\n",
    "                estaciones[nodo]['patinetes_disponibles'] += 1\n",
    "\n",
    "    # Actualizar las estaciones globales al final del día\n",
    "    for nodo, datos in estaciones.items():\n",
    "        estaciones[nodo]['patinetes_disponibles'] = estaciones[nodo]['patinetes_iniciales']\n",
    "        \n",
    "\n",
    "print(\"Simulación terminada\")\n",
    "\n",
    "# Guardar los resultados en un archivo CSV\n",
    "resultados = []\n",
    "for nodo, datos in estaciones.items():\n",
    "    resultados.append({\n",
    "        'estacion': nodo,\n",
    "        'patinetes_iniciales': datos['patinetes_iniciales'],\n",
    "        'slots': datos['slots']\n",
    "    })\n",
    "\n",
    "resultados_df = pd.DataFrame(resultados)\n",
    "resultados_df.to_csv('dimensiones_mes1.csv', index=False)\n",
    "print(\"Resultados guardados en dimensiones_mes1.csv\")\n",
    "print(f\"Total de patinetes usados: {resultados_df['patinetes_iniciales'].sum()}\")"
   ]
  },
  {
   "cell_type": "markdown",
   "id": "362fb689-52ae-4b18-bb93-823fb9aca52a",
   "metadata": {},
   "source": [
    "#### 79 estaciones"
   ]
  },
  {
   "cell_type": "code",
   "execution_count": 44,
   "id": "8aad0eed-c3e8-4f0c-8e22-bbb116bd9dfe",
   "metadata": {},
   "outputs": [
    {
     "name": "stdout",
     "output_type": "stream",
     "text": [
      "                   ts  nodo     tipo\n",
      "0 2021-02-01 00:21:03    33   origen\n",
      "1 2021-02-01 00:22:03    14  destino\n",
      "2 2021-02-01 03:49:03    43   origen\n",
      "3 2021-02-01 03:50:33    43  destino\n",
      "4 2021-02-01 05:17:34    45   origen\n"
     ]
    },
    {
     "data": {
      "text/plain": [
       "(None, 23868, 47736)"
      ]
     },
     "execution_count": 44,
     "metadata": {},
     "output_type": "execute_result"
    }
   ],
   "source": [
    "# Leer el archivo CSV\n",
    "df = pd.read_csv(\"df_with_clusters2.csv\")\n",
    "df['tsD'] = pd.to_datetime(df['tsD'], format='%d/%m/%Y %H:%M:%S', dayfirst=True)\n",
    "df['tsO'] = pd.to_datetime(df['tsO'], format='%Y-%m-%d %H:%M:%S', dayfirst=False)\n",
    "\n",
    "# Crear DataFrame combinado\n",
    "df_tsO_clusterO = df[['tsO', 'clusterO']].copy()\n",
    "df_tsD_clusterD = df[['tsD', 'clusterD']].copy()\n",
    "\n",
    "df_tsO_clusterO['tipo'] = 'origen'\n",
    "df_tsD_clusterD['tipo'] = 'destino'\n",
    "\n",
    "df_tsO_clusterO.rename(columns={'tsO': 'ts', 'clusterO': 'nodo'}, inplace=True)\n",
    "df_tsD_clusterD.rename(columns={'tsD': 'ts', 'clusterD': 'nodo'}, inplace=True)\n",
    "\n",
    "df_combinado = pd.concat([df_tsO_clusterO, df_tsD_clusterD], ignore_index=True)\n",
    "df_combinado.sort_values(by='ts', inplace=True)\n",
    "df_combinado.reset_index(drop=True, inplace=True)\n",
    "print(df_combinado.head()), len(df), len(df_combinado)"
   ]
  },
  {
   "cell_type": "code",
   "execution_count": 45,
   "id": "d4ddc38a-1649-417f-b71c-cdb4a1e8539e",
   "metadata": {},
   "outputs": [
    {
     "name": "stdout",
     "output_type": "stream",
     "text": [
      "Simulación terminada\n",
      "Resultados guardados en dimensiones_mes2.csv\n",
      "Total de patinetes usados: 581\n"
     ]
    }
   ],
   "source": [
    "# Inicializar las estaciones\n",
    "from datetime import datetime as dt, timedelta\n",
    "# Inicializar las estaciones\n",
    "num_estaciones = 79\n",
    "estaciones = {\n",
    "    i: {\n",
    "        \"patinetes_iniciales\":1,\n",
    "        \"patinetes_disponibles\": 1,  # Inicialmente un patinete\n",
    "        \"slots\": 1  # Inicialmente un slot\n",
    "    }\n",
    "    for i in range(num_estaciones)\n",
    "}\n",
    "\n",
    "# Filtrar datos por día y simular\n",
    "inicio_mes = dt(2021, 2, 1)\n",
    "fin_mes = dt(2021, 2, 28)\n",
    "\n",
    "for dia in range((fin_mes - inicio_mes).days + 1):\n",
    "    fecha_actual = inicio_mes + timedelta(days=dia)\n",
    "    siguiente_dia = fecha_actual + timedelta(days=1)\n",
    "\n",
    "    # Filtrar datos del día actual\n",
    "    df_dia = df_combinado[(df_combinado['ts'] >= fecha_actual) & (df_combinado['ts'] < siguiente_dia)]\n",
    "\n",
    "    # Simular eventos\n",
    "    for _, evento in df_dia.iterrows():\n",
    "        nodo = evento['nodo']\n",
    "        tipo = evento['tipo']\n",
    "\n",
    "        if tipo == 'origen':\n",
    "            if estaciones[nodo]['patinetes_disponibles'] > 0:\n",
    "                estaciones[nodo]['patinetes_disponibles'] -= 1\n",
    "            else:\n",
    "                estaciones[nodo]['patinetes_iniciales'] += 1\n",
    "                estaciones[nodo]['patinetes_disponibles'] = 0\n",
    "                if estaciones[nodo]['patinetes_iniciales'] > estaciones[nodo]['slots']:\n",
    "                    estaciones[nodo]['slots'] += 1\n",
    "\n",
    "        elif tipo == 'destino':\n",
    "            if estaciones[nodo]['patinetes_disponibles'] < estaciones[nodo]['slots']:\n",
    "                estaciones[nodo]['patinetes_disponibles'] += 1\n",
    "            else:\n",
    "                estaciones[nodo]['slots'] += 1\n",
    "                estaciones[nodo]['patinetes_disponibles'] += 1\n",
    "\n",
    "    # Actualizar las estaciones globales al final del día\n",
    "    for nodo, datos in estaciones.items():\n",
    "        estaciones[nodo]['patinetes_disponibles'] = estaciones[nodo]['patinetes_iniciales']\n",
    "        \n",
    "\n",
    "print(\"Simulación terminada\")\n",
    "\n",
    "# Guardar los resultados en un archivo CSV\n",
    "resultados = []\n",
    "for nodo, datos in estaciones.items():\n",
    "    resultados.append({\n",
    "        'estacion': nodo,\n",
    "        'patinetes_iniciales': datos['patinetes_iniciales'],\n",
    "        'slots': datos['slots']\n",
    "    })\n",
    "\n",
    "resultados_df = pd.DataFrame(resultados)\n",
    "resultados_df.to_csv('dimensiones_mes2.csv', index=False)\n",
    "print(\"Resultados guardados en dimensiones_mes2.csv\")\n",
    "print(f\"Total de patinetes usados: {resultados_df['patinetes_iniciales'].sum()}\")"
   ]
  },
  {
   "cell_type": "markdown",
   "id": "ade5f773-a88e-4e34-aa17-d15161ecc4f7",
   "metadata": {},
   "source": [
    "### Simulación de un mes por semanas"
   ]
  },
  {
   "cell_type": "markdown",
   "id": "5bd3acd9-9f15-4622-a234-477d951a9123",
   "metadata": {},
   "source": [
    "#### 40 estaciones"
   ]
  },
  {
   "cell_type": "code",
   "execution_count": 48,
   "id": "65343bc3-d4b6-41db-b52d-0609f42a5a86",
   "metadata": {},
   "outputs": [
    {
     "name": "stdout",
     "output_type": "stream",
     "text": [
      "                   ts  nodo     tipo\n",
      "0 2021-02-01 00:21:03     8   origen\n",
      "1 2021-02-01 00:22:03     0  destino\n",
      "2 2021-02-01 03:49:03    18   origen\n",
      "3 2021-02-01 03:50:33    18  destino\n",
      "4 2021-02-01 05:17:34    21   origen\n"
     ]
    },
    {
     "data": {
      "text/plain": [
       "(None, 23984, 47968)"
      ]
     },
     "execution_count": 48,
     "metadata": {},
     "output_type": "execute_result"
    }
   ],
   "source": [
    "# Leer el archivo CSV\n",
    "df = pd.read_csv(\"df_with_clusters.csv\")\n",
    "df['tsD'] = pd.to_datetime(df['tsD'], format='%d/%m/%Y %H:%M:%S', dayfirst=True)\n",
    "df['tsO'] = pd.to_datetime(df['tsO'], format='%Y-%m-%d %H:%M:%S', dayfirst=False)\n",
    "\n",
    "# Crear DataFrame combinado\n",
    "df_tsO_clusterO = df[['tsO', 'clusterO']].copy()\n",
    "df_tsD_clusterD = df[['tsD', 'clusterD']].copy()\n",
    "\n",
    "df_tsO_clusterO['tipo'] = 'origen'\n",
    "df_tsD_clusterD['tipo'] = 'destino'\n",
    "\n",
    "df_tsO_clusterO.rename(columns={'tsO': 'ts', 'clusterO': 'nodo'}, inplace=True)\n",
    "df_tsD_clusterD.rename(columns={'tsD': 'ts', 'clusterD': 'nodo'}, inplace=True)\n",
    "\n",
    "df_combinado = pd.concat([df_tsO_clusterO, df_tsD_clusterD], ignore_index=True)\n",
    "df_combinado.sort_values(by='ts', inplace=True)\n",
    "df_combinado.reset_index(drop=True, inplace=True)\n",
    "print(df_combinado.head()), len(df), len(df_combinado)"
   ]
  },
  {
   "cell_type": "code",
   "execution_count": 50,
   "id": "7eb46d0b-219e-4a55-bffc-4b3c7b7bd009",
   "metadata": {},
   "outputs": [
    {
     "name": "stdout",
     "output_type": "stream",
     "text": [
      "Simulación terminada\n",
      "Resultados guardados en dimensiones_semanas1.csv\n",
      "Total de patinetes usados: 611\n"
     ]
    }
   ],
   "source": [
    "# Inicializar las estaciones\n",
    "from datetime import datetime as dt, timedelta\n",
    "# Inicializar las estaciones\n",
    "num_estaciones = 40\n",
    "estaciones = {\n",
    "    i: {\n",
    "        \"patinetes_iniciales\":1,\n",
    "        \"patinetes_disponibles\": 1,  # Inicialmente un patinete\n",
    "        \"slots\": 1  # Inicialmente un slot\n",
    "    }\n",
    "    for i in range(num_estaciones)\n",
    "}\n",
    "\n",
    "# Filtrar datos por día y simular\n",
    "inicio_mes = dt(2021, 2, 1)\n",
    "fin_mes = dt(2021, 2, 28)\n",
    "\n",
    "for dia in range((fin_mes - inicio_mes).days + 1):\n",
    "    fecha_actual = inicio_mes + timedelta(days=dia)\n",
    "    siguiente_dia = fecha_actual + timedelta(days=1)\n",
    "\n",
    "    # Filtrar datos del día actual\n",
    "    df_dia = df_combinado[(df_combinado['ts'] >= fecha_actual) & (df_combinado['ts'] < siguiente_dia)]\n",
    "\n",
    "    # Simular eventos\n",
    "    for _, evento in df_dia.iterrows():\n",
    "        nodo = evento['nodo']\n",
    "        tipo = evento['tipo']\n",
    "\n",
    "        if tipo == 'origen':\n",
    "            if estaciones[nodo]['patinetes_disponibles'] > 0:\n",
    "                estaciones[nodo]['patinetes_disponibles'] -= 1\n",
    "            else:\n",
    "                estaciones[nodo]['patinetes_iniciales'] += 1\n",
    "                estaciones[nodo]['patinetes_disponibles'] = 0\n",
    "                if estaciones[nodo]['patinetes_iniciales'] > estaciones[nodo]['slots']:\n",
    "                    estaciones[nodo]['slots'] += 1\n",
    "\n",
    "        elif tipo == 'destino':\n",
    "            if estaciones[nodo]['patinetes_disponibles'] < estaciones[nodo]['slots']:\n",
    "                estaciones[nodo]['patinetes_disponibles'] += 1\n",
    "            else:\n",
    "                estaciones[nodo]['slots'] += 1\n",
    "                estaciones[nodo]['patinetes_disponibles'] += 1\n",
    "\n",
    "    # Realizar la redistribución semanal al final del domingo\n",
    "    if fecha_actual.weekday() == 0:  # Domingo\n",
    "        for nodo, datos in estaciones.items():\n",
    "            estaciones[nodo]['patinetes_disponibles'] = estaciones[nodo]['patinetes_iniciales']\n",
    "\n",
    "print(\"Simulación terminada\")\n",
    "\n",
    "# Guardar los resultados en un archivo CSV\n",
    "resultados = []\n",
    "for nodo, datos in estaciones.items():\n",
    "    resultados.append({\n",
    "        'estacion': nodo,\n",
    "        'patinetes_iniciales': datos['patinetes_iniciales'],\n",
    "        'slots': datos['slots']\n",
    "    })\n",
    "\n",
    "resultados_df = pd.DataFrame(resultados)\n",
    "resultados_df.to_csv('dimensiones_semanas1.csv', index=False)\n",
    "print(\"Resultados guardados en dimensiones_semanas1.csv\")\n",
    "print(f\"Total de patinetes usados: {resultados_df['patinetes_iniciales'].sum()}\")"
   ]
  },
  {
   "cell_type": "markdown",
   "id": "0b205115-b78f-409a-a557-e12c1f835fec",
   "metadata": {},
   "source": [
    "#### 79 estaciones"
   ]
  },
  {
   "cell_type": "code",
   "execution_count": 56,
   "id": "de3a450c-5120-4504-b8b7-72b2057615a5",
   "metadata": {},
   "outputs": [
    {
     "name": "stdout",
     "output_type": "stream",
     "text": [
      "                   ts  nodo     tipo\n",
      "0 2021-02-01 00:21:03    33   origen\n",
      "1 2021-02-01 00:22:03    14  destino\n",
      "2 2021-02-01 03:49:03    43   origen\n",
      "3 2021-02-01 03:50:33    43  destino\n",
      "4 2021-02-01 05:17:34    45   origen\n"
     ]
    },
    {
     "data": {
      "text/plain": [
       "(None, 23868, 47736)"
      ]
     },
     "execution_count": 56,
     "metadata": {},
     "output_type": "execute_result"
    }
   ],
   "source": [
    "# Leer el archivo CSV\n",
    "df = pd.read_csv(\"df_with_clusters2.csv\")\n",
    "df['tsD'] = pd.to_datetime(df['tsD'], format='%d/%m/%Y %H:%M:%S', dayfirst=True)\n",
    "df['tsO'] = pd.to_datetime(df['tsO'], format='%Y-%m-%d %H:%M:%S', dayfirst=False)\n",
    "\n",
    "# Crear DataFrame combinado\n",
    "df_tsO_clusterO = df[['tsO', 'clusterO']].copy()\n",
    "df_tsD_clusterD = df[['tsD', 'clusterD']].copy()\n",
    "\n",
    "df_tsO_clusterO['tipo'] = 'origen'\n",
    "df_tsD_clusterD['tipo'] = 'destino'\n",
    "\n",
    "df_tsO_clusterO.rename(columns={'tsO': 'ts', 'clusterO': 'nodo'}, inplace=True)\n",
    "df_tsD_clusterD.rename(columns={'tsD': 'ts', 'clusterD': 'nodo'}, inplace=True)\n",
    "\n",
    "df_combinado = pd.concat([df_tsO_clusterO, df_tsD_clusterD], ignore_index=True)\n",
    "df_combinado.sort_values(by='ts', inplace=True)\n",
    "df_combinado.reset_index(drop=True, inplace=True)\n",
    "print(df_combinado.head()), len(df), len(df_combinado)"
   ]
  },
  {
   "cell_type": "code",
   "execution_count": 58,
   "id": "8d68c330-ef78-491a-81c2-a0ee90d16530",
   "metadata": {},
   "outputs": [
    {
     "name": "stdout",
     "output_type": "stream",
     "text": [
      "Simulación terminada\n",
      "Resultados guardados en dimensiones_semanas2.csv\n",
      "Total de patinetes usados: 1028\n"
     ]
    }
   ],
   "source": [
    "# Inicializar las estaciones\n",
    "from datetime import datetime as dt, timedelta\n",
    "# Inicializar las estaciones\n",
    "num_estaciones = 79\n",
    "estaciones = {\n",
    "    i: {\n",
    "        \"patinetes_iniciales\":1,\n",
    "        \"patinetes_disponibles\": 1,  # Inicialmente un patinete\n",
    "        \"slots\": 1  # Inicialmente un slot\n",
    "    }\n",
    "    for i in range(num_estaciones)\n",
    "}\n",
    "\n",
    "# Filtrar datos por día y simular\n",
    "inicio_mes = dt(2021, 2, 1)\n",
    "fin_mes = dt(2021, 2, 28)\n",
    "\n",
    "for dia in range((fin_mes - inicio_mes).days + 1):\n",
    "    fecha_actual = inicio_mes + timedelta(days=dia)\n",
    "    siguiente_dia = fecha_actual + timedelta(days=1)\n",
    "\n",
    "    # Filtrar datos del día actual\n",
    "    df_dia = df_combinado[(df_combinado['ts'] >= fecha_actual) & (df_combinado['ts'] < siguiente_dia)]\n",
    "\n",
    "    # Simular eventos\n",
    "    for _, evento in df_dia.iterrows():\n",
    "        nodo = evento['nodo']\n",
    "        tipo = evento['tipo']\n",
    "\n",
    "        if tipo == 'origen':\n",
    "            if estaciones[nodo]['patinetes_disponibles'] > 0:\n",
    "                estaciones[nodo]['patinetes_disponibles'] -= 1\n",
    "            else:\n",
    "                estaciones[nodo]['patinetes_iniciales'] += 1\n",
    "                estaciones[nodo]['patinetes_disponibles'] = 0\n",
    "                if estaciones[nodo]['patinetes_iniciales'] > estaciones[nodo]['slots']:\n",
    "                    estaciones[nodo]['slots'] += 1\n",
    "\n",
    "        elif tipo == 'destino':\n",
    "            if estaciones[nodo]['patinetes_disponibles'] < estaciones[nodo]['slots']:\n",
    "                estaciones[nodo]['patinetes_disponibles'] += 1\n",
    "            else:\n",
    "                estaciones[nodo]['slots'] += 1\n",
    "                estaciones[nodo]['patinetes_disponibles'] += 1\n",
    "\n",
    "    # Realizar la redistribución semanal al final del domingo\n",
    "    if fecha_actual.weekday() == 0:  # Domingo\n",
    "        for nodo, datos in estaciones.items():\n",
    "            estaciones[nodo]['patinetes_disponibles'] = estaciones[nodo]['patinetes_iniciales']\n",
    "\n",
    "print(\"Simulación terminada\")\n",
    "\n",
    "# Guardar los resultados en un archivo CSV\n",
    "resultados = []\n",
    "for nodo, datos in estaciones.items():\n",
    "    resultados.append({\n",
    "        'estacion': nodo,\n",
    "        'patinetes_iniciales': datos['patinetes_iniciales'],\n",
    "        'slots': datos['slots']\n",
    "    })\n",
    "\n",
    "resultados_df = pd.DataFrame(resultados)\n",
    "resultados_df.to_csv('dimensiones_semanas2.csv', index=False)\n",
    "print(\"Resultados guardados en dimensiones_semanas2.csv\")\n",
    "print(f\"Total de patinetes usados: {resultados_df['patinetes_iniciales'].sum()}\")"
   ]
  },
  {
   "cell_type": "markdown",
   "id": "842f37dc-e8fc-45a3-ae6a-4e7e9b0e2484",
   "metadata": {},
   "source": [
    "## Análisis económico: 40 VS 79"
   ]
  },
  {
   "cell_type": "code",
   "execution_count": 32,
   "id": "eae70c30-b547-4452-90a7-365fecf4dbd5",
   "metadata": {},
   "outputs": [
    {
     "data": {
      "text/plain": [
       "count    8883.000000\n",
       "mean      500.931217\n",
       "std       577.219765\n",
       "min        60.000000\n",
       "25%       160.000000\n",
       "50%       280.000000\n",
       "75%       589.500000\n",
       "max      5011.000000\n",
       "Name: tt, dtype: float64"
      ]
     },
     "execution_count": 32,
     "metadata": {},
     "output_type": "execute_result"
    }
   ],
   "source": [
    "df = pd.read_csv(\"df_with_clusters.csv\")\n",
    "df_intra_cluster = df[df['clusterO'] == df['clusterD']]\n",
    "df_intra_cluster['tt'].describe()"
   ]
  },
  {
   "cell_type": "code",
   "execution_count": 34,
   "id": "b6739ccb-4d32-4355-8a80-1196858441f1",
   "metadata": {},
   "outputs": [
    {
     "name": "stdout",
     "output_type": "stream",
     "text": [
      "Con 40 clústers se perderían 3,526 viajes.\n",
      "Se perderían 7,940.92 €\n"
     ]
    }
   ],
   "source": [
    "# Calcular la cantidad de filas que se perderían\n",
    "filas_perdidas = 0.147 * len(df) #Hay un 37% de viajes intra-cluster con 40 clúster y un 22.3% con 79 clústers\n",
    "\n",
    "# Calcular el valor asociado a las filas perdidas: nª de filas * tiempo medio de esos trayectos * precio por segundo\n",
    "valor_perdido_mensual = filas_perdidas * np.mean(df_intra_cluster['tt']) * (sum(df_intra_cluster['price']) / sum(df_intra_cluster['tt']))\n",
    "\n",
    "# Imprimir los resultados con formato\n",
    "print(f'Con 40 clústers se perderían {filas_perdidas:,.0f} viajes.')\n",
    "print(f'Se perderían {valor_perdido_mensual:,.2f} €')\n"
   ]
  },
  {
   "cell_type": "markdown",
   "id": "1a929eee-aced-4af3-a652-33f3e00f7f88",
   "metadata": {},
   "source": [
    "### Inversión inicial"
   ]
  },
  {
   "cell_type": "code",
   "execution_count": 37,
   "id": "8caea0b2-a200-4ab1-b89c-5d89c60047e6",
   "metadata": {},
   "outputs": [
    {
     "name": "stdout",
     "output_type": "stream",
     "text": [
      "Inversión inicial para 40 clústeres diarios: 1,392,164.20 €\n",
      "Inversión inicial para 79 clústeres diarios: 2,346,791.08 €\n",
      "Inversión inicial para 40 clústeres semanales: 2,296,547.56 €\n",
      "Inversión inicial para 79 clústeres semanales: 3,843,629.28 €\n"
     ]
    }
   ],
   "source": [
    "precio_enchufe = 1657.66\n",
    "area_slot = 0.566 * 1.1 #Área de un patinete + un márgen del 10\n",
    "precio_panel_m2 = 700 # https://www.idealista.com/news/inmobiliario/vivienda/2021/02/22/789196-cuanto-cuesta-poner-paneles-solares-en-casa\n",
    "\n",
    "diario_40 = pd.read_csv(\"dimensiones_mes1.csv\")\n",
    "diario_79 = pd.read_csv(\"dimensiones_mes2.csv\")\n",
    "semanal_40 = pd.read_csv(\"dimensiones_semanas1.csv\")\n",
    "semanal_79 = pd.read_csv(\"dimensiones_semanas2.csv\")\n",
    "\n",
    "slots_diario_40 = diario_40['slots'].sum()\n",
    "patinetes_diario_40 = diario_40['patinetes_iniciales'].sum()\n",
    "slots_diario_79 = diario_79['slots'].sum()\n",
    "patinetes_diario_79 = diario_79['patinetes_iniciales'].sum()\n",
    "slots_semanal_40 = semanal_40['slots'].sum()\n",
    "patinetes_semanal_40 = semanal_40['patinetes_iniciales'].sum()\n",
    "slots_semanal_79 = semanal_79['slots'].sum()\n",
    "patinetes_semanal_79 = semanal_79['patinetes_iniciales'].sum()\n",
    "\n",
    "inversion_40_diario = (area_slot * slots_diario_40 * precio_panel_m2) + (slots_diario_40 * precio_enchufe)\n",
    "inversion_79_diario = (area_slot * slots_diario_79 * precio_panel_m2) + (slots_diario_79 * precio_enchufe)\n",
    "inversion_40_semanal = (area_slot * slots_semanal_40 * precio_panel_m2) + (slots_semanal_40 * precio_enchufe)\n",
    "inversion_79_semanal = (area_slot * slots_semanal_79 * precio_panel_m2) + (slots_semanal_79 * precio_enchufe)\n",
    "\n",
    "# Resultados\n",
    "print(f\"Inversión inicial para 40 clústeres diarios: {inversion_40_diario:,.2f} €\")\n",
    "print(f\"Inversión inicial para 79 clústeres diarios: {inversion_79_diario:,.2f} €\")\n",
    "print(f\"Inversión inicial para 40 clústeres semanales: {inversion_40_semanal:,.2f} €\")\n",
    "print(f\"Inversión inicial para 79 clústeres semanales: {inversion_79_semanal:,.2f} €\")"
   ]
  },
  {
   "cell_type": "markdown",
   "id": "9c016b16-969f-442b-b3ff-fc07457ed1ef",
   "metadata": {},
   "source": [
    "#### Ganancias mensuales por escenario"
   ]
  },
  {
   "cell_type": "code",
   "execution_count": 40,
   "id": "1c9ac0e9-e4b8-4bc3-9be0-ccb2880ec70e",
   "metadata": {},
   "outputs": [
    {
     "name": "stdout",
     "output_type": "stream",
     "text": [
      "Ganancias mensuales con 40 estaciones: 54886.85\n",
      "Ganancias mensuales con 79 estaciones: 62544.36\n"
     ]
    }
   ],
   "source": [
    "df1 = pd.read_csv('df_with_clusters.csv')\n",
    "df2 = pd.read_csv('df_with_clusters2.csv')\n",
    "ganancias_mensuales_40 = df1['price'].sum()-valor_perdido_mensual\n",
    "ganancias_mensuales_79 = df2['price'].sum()\n",
    "print(f'Ganancias mensuales con 40 estaciones: {ganancias_mensuales_40.round(2)}')\n",
    "print(f'Ganancias mensuales con 79 estaciones: {ganancias_mensuales_79.round(2)}')"
   ]
  },
  {
   "cell_type": "code",
   "execution_count": 42,
   "id": "8eacc8c6-716a-4260-8997-4dd1c5510c7a",
   "metadata": {},
   "outputs": [
    {
     "name": "stdout",
     "output_type": "stream",
     "text": [
      "Periodo de retorno para 40 clústeres diarios: 25.36 meses\n",
      "Periodo de retorno para 79 clústeres diarios: 37.52 meses\n",
      "Periodo de retorno para 40 clústeres semanales: 41.84 meses\n",
      "Periodo de retorno para 79 clústeres semanales: 61.45 meses\n"
     ]
    }
   ],
   "source": [
    "# Calcular el periodo de retorno (inversión inicial / ganancias mensuales)\n",
    "retorno_40_diario = inversion_40_diario / ganancias_mensuales_40\n",
    "retorno_79_diario = inversion_79_diario / ganancias_mensuales_79\n",
    "retorno_40_semanal = inversion_40_semanal / ganancias_mensuales_40\n",
    "retorno_79_semanal = inversion_79_semanal / ganancias_mensuales_79\n",
    "\n",
    "# Imprimir los resultados con formato\n",
    "print(f\"Periodo de retorno para 40 clústeres diarios: {retorno_40_diario:.2f} meses\")\n",
    "print(f\"Periodo de retorno para 79 clústeres diarios: {retorno_79_diario:.2f} meses\")\n",
    "print(f\"Periodo de retorno para 40 clústeres semanales: {retorno_40_semanal:.2f} meses\")\n",
    "print(f\"Periodo de retorno para 79 clústeres semanales: {retorno_79_semanal:.2f} meses\")\n"
   ]
  },
  {
   "cell_type": "code",
   "execution_count": null,
   "id": "1ee38fe6-4ce7-41f6-86d1-c308a8cb4bfc",
   "metadata": {},
   "outputs": [],
   "source": []
  }
 ],
 "metadata": {
  "kernelspec": {
   "display_name": "Python 3 (ipykernel)",
   "language": "python",
   "name": "python3"
  },
  "language_info": {
   "codemirror_mode": {
    "name": "ipython",
    "version": 3
   },
   "file_extension": ".py",
   "mimetype": "text/x-python",
   "name": "python",
   "nbconvert_exporter": "python",
   "pygments_lexer": "ipython3",
   "version": "3.9.18"
  }
 },
 "nbformat": 4,
 "nbformat_minor": 5
}
