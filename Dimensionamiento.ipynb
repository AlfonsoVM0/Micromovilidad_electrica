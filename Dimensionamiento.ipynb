{
 "cells": [
  {
   "cell_type": "markdown",
   "id": "e8bd2ec7-ff77-4204-b93e-13984ad3a705",
   "metadata": {},
   "source": [
    "### Simulación de un día"
   ]
  },
  {
   "cell_type": "code",
   "execution_count": 30,
   "id": "19a36391-97e9-41d8-9f32-89bb9ca61e4b",
   "metadata": {},
   "outputs": [],
   "source": [
    "import plotly.express as px\n",
    "import plotly.graph_objects as go\n",
    "import pandas as pd\n",
    "import numpy as np\n",
    "from datetime import timedelta, datetime\n",
    "from ipywidgets import interact, widgets\n",
    "import matplotlib.pyplot as plt\n",
    "import matplotlib.colors as mcolors\n",
    "from matplotlib.colors import ListedColormap\n",
    "import matplotlib.cm as cm\n",
    "import seaborn as sns\n",
    "import os\n",
    "import folium\n",
    "from folium.plugins import HeatMap\n",
    "from folium.plugins import HeatMapWithTime\n",
    "import datetime\n",
    "from sklearn.cluster import KMeans\n",
    "from geopy.distance import geodesic \n",
    "import warnings\n",
    "from collections import defaultdict"
   ]
  },
  {
   "cell_type": "markdown",
   "id": "8ff2c623-0244-49e0-842e-ccfd9cf74645",
   "metadata": {},
   "source": [
    "#### 40 estaciones"
   ]
  },
  {
   "cell_type": "code",
   "execution_count": 33,
   "id": "d58e8e02-c5ba-4671-9473-a9b7b28e51b6",
   "metadata": {},
   "outputs": [
    {
     "name": "stdout",
     "output_type": "stream",
     "text": [
      "                   ts  nodo     tipo\n",
      "0 2021-02-26 00:15:23     2   origen\n",
      "1 2021-02-26 00:36:54    23   origen\n",
      "2 2021-02-26 00:38:43    23  destino\n",
      "3 2021-02-26 00:55:44    28   origen\n",
      "4 2021-02-26 00:59:43     2  destino\n"
     ]
    },
    {
     "data": {
      "text/plain": [
       "(None, 1110, 2220)"
      ]
     },
     "execution_count": 33,
     "metadata": {},
     "output_type": "execute_result"
    }
   ],
   "source": [
    "df = pd.read_csv(\"df_with_clusters.csv\")\n",
    "df['tsD'] = pd.to_datetime(df['tsD'], format='%d/%m/%Y %H:%M:%S', dayfirst=True)\n",
    "df['tsO'] = pd.to_datetime(df['tsO'], format='%Y-%m-%d %H:%M:%S', dayfirst=False)\n",
    "\n",
    "# Filtrar los datos para usar solo los del día 26 de febrero de 2021 \n",
    "df = df[(df['tsO'].dt.date == pd.to_datetime('2021-02-26').date())]\n",
    "# Dividir el DataFrame en dos y hacer copias para evitar el SettingWithCopyWarning\n",
    "df_tsO_clusterO = df[['tsO', 'clusterO']].copy()\n",
    "df_tsD_clusterD = df[['tsD', 'clusterD']].copy()\n",
    "\n",
    "# Añadir columna 'tipo' para indicar si es un cluster de origen o destino\n",
    "df_tsO_clusterO['tipo'] = 'origen'\n",
    "df_tsD_clusterD['tipo'] = 'destino'\n",
    "\n",
    "# Renombrar columnas para que tengan un nombre común ('ts' y 'cluster')\n",
    "df_tsO_clusterO.rename(columns={'tsO': 'ts', 'clusterO': 'nodo'}, inplace=True)\n",
    "df_tsD_clusterD.rename(columns={'tsD': 'ts', 'clusterD': 'nodo'}, inplace=True)\n",
    "\n",
    "# Concatenar ambos DataFrames\n",
    "df_combinado = pd.concat([df_tsO_clusterO, df_tsD_clusterD], ignore_index=True)\n",
    "\n",
    "# Ordenar por la columna temporal 'ts'\n",
    "df_combinado.sort_values(by='ts', inplace=True)\n",
    "\n",
    "# Restablecer el índice\n",
    "df_combinado.reset_index(drop=True, inplace=True)\n",
    "# Verificar el resultado\n",
    "print(df_combinado.head()), len(df), len(df_combinado)\n"
   ]
  },
  {
   "cell_type": "code",
   "execution_count": 35,
   "id": "b7da4f1b-668e-40da-a7f3-d6b819ca6497",
   "metadata": {},
   "outputs": [
    {
     "name": "stdout",
     "output_type": "stream",
     "text": [
      "Simulación terminada\n",
      "Resultados guardados en dimensiones.csv\n",
      "Total de patinetes usados: 168\n"
     ]
    }
   ],
   "source": [
    "# Inicializar las estaciones\n",
    "num_estaciones = 40\n",
    "estaciones = {\n",
    "    i: {\n",
    "        \"patinetes_iniciales\":1,\n",
    "        \"patinetes_disponibles\": 1,  # Inicialmente un patinete\n",
    "        \"slots\": 1  # Inicialmente un slot\n",
    "    }\n",
    "    for i in range(num_estaciones)\n",
    "}\n",
    "\n",
    "# Simulación de eventos\n",
    "for _, evento in df_combinado.iterrows():\n",
    "    nodo = evento['nodo']\n",
    "    tipo = evento['tipo']\n",
    "\n",
    "    if tipo == 'origen':\n",
    "        # Si es una salida, disminuir el número de patinetes disponibles\n",
    "        if estaciones[nodo]['patinetes_disponibles'] > 0:\n",
    "            estaciones[nodo]['patinetes_disponibles'] -= 1\n",
    "        else:\n",
    "            # Si no hay patinetes disponibles, aumentar el número de patinetes iniciales y slots (si fuese necesario)\n",
    "            estaciones[nodo]['patinetes_iniciales'] += 1\n",
    "            estaciones[nodo]['patinetes_disponibles'] = 0 #Se mantiene en 0 -> el patinete inicial adicional es el que se usa para al viaje\n",
    "            if estaciones[nodo]['patinetes_iniciales'] > estaciones[nodo]['slots']:\n",
    "                estaciones[nodo]['slots'] += 1\n",
    "\n",
    "    elif tipo == 'destino':\n",
    "        # Si es una llegada, aumentar el número de patinetes disponibles\n",
    "        if estaciones[nodo]['patinetes_disponibles'] < estaciones[nodo]['slots']:\n",
    "            estaciones[nodo]['patinetes_disponibles'] += 1\n",
    "        else:\n",
    "            # Si todos los slots están ocupados, aumentar el número de slots \n",
    "            estaciones[nodo]['slots'] += 1\n",
    "            estaciones[nodo]['patinetes_disponibles'] += 1\n",
    "            \n",
    "print(\"Simulación terminada\")\n",
    "# Guardar los resultados en un archivo CSV\n",
    "resultados = []\n",
    "for nodo, datos in estaciones.items():\n",
    "    resultados.append({\n",
    "        'estacion': nodo,\n",
    "        'patinetes_iniciales': datos['patinetes_iniciales'],\n",
    "        'slots': datos['slots'],\n",
    "        'patinetes_finales': datos['patinetes_disponibles'] \n",
    "    })\n",
    "\n",
    "resultados_df = pd.DataFrame(resultados)\n",
    "resultados_df.to_csv('dimensiones.csv', index=False)\n",
    "print(\"Resultados guardados en dimensiones.csv\")\n",
    "print(f\"Total de patinetes usados: {resultados_df['patinetes_iniciales'].sum()}\")"
   ]
  },
  {
   "cell_type": "markdown",
   "id": "75a5c5fb-f692-4503-9da3-a2b4b4e56a15",
   "metadata": {},
   "source": [
    "#### 79 estaciones"
   ]
  },
  {
   "cell_type": "code",
   "execution_count": 38,
   "id": "dc3b33b1-d5d6-45a2-be03-9a54a5e48a0c",
   "metadata": {},
   "outputs": [
    {
     "name": "stdout",
     "output_type": "stream",
     "text": [
      "                   ts  nodo     tipo\n",
      "0 2021-02-26 00:15:23    20   origen\n",
      "1 2021-02-26 00:36:54     9   origen\n",
      "2 2021-02-26 00:38:43     9  destino\n",
      "3 2021-02-26 00:55:44    56   origen\n",
      "4 2021-02-26 00:59:43    20  destino\n"
     ]
    },
    {
     "data": {
      "text/plain": [
       "(None, 1108, 2216)"
      ]
     },
     "execution_count": 38,
     "metadata": {},
     "output_type": "execute_result"
    }
   ],
   "source": [
    "df = pd.read_csv(\"df_with_clusters2.csv\")\n",
    "df['tsD'] = pd.to_datetime(df['tsD'], format='%d/%m/%Y %H:%M:%S', dayfirst=True)\n",
    "df['tsO'] = pd.to_datetime(df['tsO'], format='%Y-%m-%d %H:%M:%S', dayfirst=False)\n",
    "\n",
    "# Filtrar los datos para usar solo los del día 26 de febrero de 2021 \n",
    "df = df[(df['tsO'].dt.date == pd.to_datetime('2021-02-26').date())]\n",
    "# Dividir el DataFrame en dos y hacer copias para evitar el SettingWithCopyWarning\n",
    "df_tsO_clusterO = df[['tsO', 'clusterO']].copy()\n",
    "df_tsD_clusterD = df[['tsD', 'clusterD']].copy()\n",
    "\n",
    "# Añadir columna 'tipo' para indicar si es un cluster de origen o destino\n",
    "df_tsO_clusterO['tipo'] = 'origen'\n",
    "df_tsD_clusterD['tipo'] = 'destino'\n",
    "\n",
    "# Renombrar columnas para que tengan un nombre común ('ts' y 'cluster')\n",
    "df_tsO_clusterO.rename(columns={'tsO': 'ts', 'clusterO': 'nodo'}, inplace=True)\n",
    "df_tsD_clusterD.rename(columns={'tsD': 'ts', 'clusterD': 'nodo'}, inplace=True)\n",
    "\n",
    "# Concatenar ambos DataFrames\n",
    "df_combinado = pd.concat([df_tsO_clusterO, df_tsD_clusterD], ignore_index=True)\n",
    "\n",
    "# Ordenar por la columna temporal 'ts'\n",
    "df_combinado.sort_values(by='ts', inplace=True)\n",
    "\n",
    "# Restablecer el índice\n",
    "df_combinado.reset_index(drop=True, inplace=True)\n",
    "# Verificar el resultado\n",
    "print(df_combinado.head()), len(df), len(df_combinado)\n"
   ]
  },
  {
   "cell_type": "code",
   "execution_count": 40,
   "id": "176fcca7-5846-41e8-93f7-ce5a0e5d6bfe",
   "metadata": {},
   "outputs": [
    {
     "name": "stdout",
     "output_type": "stream",
     "text": [
      "Simulación terminada\n",
      "Resultados guardados en dimensiones2.csv\n",
      "Total de patinetes usados: 243\n"
     ]
    }
   ],
   "source": [
    "# Inicializar las estaciones\n",
    "num_estaciones = 79\n",
    "estaciones = {\n",
    "    i: {\n",
    "        \"patinetes_iniciales\":1,\n",
    "        \"patinetes_disponibles\": 1,  # Inicialmente un patinete\n",
    "        \"slots\": 1  # Inicialmente un slot\n",
    "    }\n",
    "    for i in range(num_estaciones)\n",
    "}\n",
    "\n",
    "# Simulación de eventos\n",
    "for _, evento in df_combinado.iterrows():\n",
    "    nodo = evento['nodo']\n",
    "    tipo = evento['tipo']\n",
    "\n",
    "    if tipo == 'origen':\n",
    "        # Si es una salida, disminuir el número de patinetes disponibles\n",
    "        if estaciones[nodo]['patinetes_disponibles'] > 0:\n",
    "            estaciones[nodo]['patinetes_disponibles'] -= 1\n",
    "        else:\n",
    "            # Si no hay patinetes disponibles, aumentar el número de patinetes iniciales y slots (si fuese necesario)\n",
    "            estaciones[nodo]['patinetes_iniciales'] += 1\n",
    "            estaciones[nodo]['patinetes_disponibles'] = 0 #Se mantiene en 0 -> el patinete inicial adicional es el que se usa para al viaje\n",
    "            if estaciones[nodo]['patinetes_iniciales'] > estaciones[nodo]['slots']:\n",
    "                estaciones[nodo]['slots'] += 1\n",
    "\n",
    "    elif tipo == 'destino':\n",
    "        # Si es una llegada, aumentar el número de patinetes disponibles\n",
    "        if estaciones[nodo]['patinetes_disponibles'] < estaciones[nodo]['slots']:\n",
    "            estaciones[nodo]['patinetes_disponibles'] += 1\n",
    "        else:\n",
    "            # Si todos los slots están ocupados, aumentar el número de slots \n",
    "            estaciones[nodo]['slots'] += 1\n",
    "            estaciones[nodo]['patinetes_disponibles'] += 1\n",
    "            \n",
    "print(\"Simulación terminada\")\n",
    "# Guardar los resultados en un archivo CSV\n",
    "resultados = []\n",
    "for nodo, datos in estaciones.items():\n",
    "    resultados.append({\n",
    "        'estacion': nodo,\n",
    "        'patinetes_iniciales': datos['patinetes_iniciales'],\n",
    "        'slots': datos['slots'],\n",
    "        'patinetes_finales': datos['patinetes_disponibles'] \n",
    "    })\n",
    "\n",
    "resultados_df = pd.DataFrame(resultados)\n",
    "resultados_df.to_csv('dimensiones2.csv', index=False)\n",
    "print(\"Resultados guardados en dimensiones2.csv\")\n",
    "print(f\"Total de patinetes usados: {resultados_df['patinetes_iniciales'].sum()}\")"
   ]
  },
  {
   "cell_type": "markdown",
   "id": "6ad48f62-8f98-4280-aeb8-d19a01ab724e",
   "metadata": {},
   "source": [
    "### Simulación semanal"
   ]
  },
  {
   "cell_type": "markdown",
   "id": "58a56838-0a19-4f8a-84ed-e8f24cb90f27",
   "metadata": {},
   "source": [
    "#### 40 estaciones\n"
   ]
  },
  {
   "cell_type": "code",
   "execution_count": 43,
   "id": "a95c1ffc-cbd1-401c-9bb1-43aa28129cb8",
   "metadata": {},
   "outputs": [
    {
     "name": "stdout",
     "output_type": "stream",
     "text": [
      "                   ts  nodo     tipo\n",
      "0 2021-02-01 00:21:03     8   origen\n",
      "1 2021-02-01 00:22:03     0  destino\n",
      "2 2021-02-01 03:49:03    18   origen\n",
      "3 2021-02-01 03:50:33    18  destino\n",
      "4 2021-02-01 05:17:34    21   origen\n"
     ]
    },
    {
     "data": {
      "text/plain": [
       "(None, 5458, 10916)"
      ]
     },
     "execution_count": 43,
     "metadata": {},
     "output_type": "execute_result"
    }
   ],
   "source": [
    "# Cargar datos desde el archivo CSV\n",
    "df = pd.read_csv(\"df_with_clusters.csv\")\n",
    "df['tsD'] = pd.to_datetime(df['tsD'], format='%d/%m/%Y %H:%M:%S', dayfirst=True)\n",
    "df['tsO'] = pd.to_datetime(df['tsO'], format='%Y-%m-%d %H:%M:%S', dayfirst=False)\n",
    "\n",
    "# Filtrar los datos para usar solo los eventos entre el 1 de febrero y el 7 de febrero de 2021\n",
    "start_date = pd.to_datetime('2021-02-01')\n",
    "end_date = pd.to_datetime('2021-02-07')\n",
    "\n",
    "df = df[(df['tsO'].dt.date >= start_date.date()) & (df['tsO'].dt.date <= end_date.date())]\n",
    "\n",
    "# Dividir el DataFrame en dos y hacer copias para evitar el SettingWithCopyWarning\n",
    "df_tsO_clusterO = df[['tsO', 'clusterO']].copy()\n",
    "df_tsD_clusterD = df[['tsD', 'clusterD']].copy()\n",
    "\n",
    "# Añadir columna 'tipo' para indicar si es un cluster de origen o destino\n",
    "df_tsO_clusterO['tipo'] = 'origen'\n",
    "df_tsD_clusterD['tipo'] = 'destino'\n",
    "\n",
    "# Renombrar columnas para que tengan un nombre común ('ts' y 'cluster')\n",
    "df_tsO_clusterO.rename(columns={'tsO': 'ts', 'clusterO': 'nodo'}, inplace=True)\n",
    "df_tsD_clusterD.rename(columns={'tsD': 'ts', 'clusterD': 'nodo'}, inplace=True)\n",
    "\n",
    "# Concatenar ambos DataFrames\n",
    "df_combinado = pd.concat([df_tsO_clusterO, df_tsD_clusterD], ignore_index=True)\n",
    "\n",
    "# Ordenar por la columna temporal 'ts'\n",
    "df_combinado.sort_values(by='ts', inplace=True)\n",
    "\n",
    "# Restablecer el índice\n",
    "df_combinado.reset_index(drop=True, inplace=True)\n",
    "# Verificar el resultado\n",
    "print(df_combinado.head()), len(df), len(df_combinado)"
   ]
  },
  {
   "cell_type": "code",
   "execution_count": 45,
   "id": "ff3748f2-1940-4fb5-abd4-7e2e2755298a",
   "metadata": {},
   "outputs": [
    {
     "name": "stdout",
     "output_type": "stream",
     "text": [
      "Simulación terminada\n",
      "Resultados guardados en dimensiones3.csv\n",
      "Total de patinetes usados: 338\n"
     ]
    }
   ],
   "source": [
    "# Inicializar las estaciones\n",
    "num_estaciones = 40\n",
    "estaciones = {\n",
    "    i: {\n",
    "        \"patinetes_iniciales\":1,\n",
    "        \"patinetes_disponibles\": 1,  # Inicialmente un patinete\n",
    "        \"slots\": 1  # Inicialmente un slot\n",
    "    }\n",
    "    for i in range(num_estaciones)\n",
    "}\n",
    "\n",
    "# Simulación de eventos\n",
    "for _, evento in df_combinado.iterrows():\n",
    "    nodo = evento['nodo']\n",
    "    tipo = evento['tipo']\n",
    "\n",
    "    if tipo == 'origen':\n",
    "        # Si es una salida, disminuir el número de patinetes disponibles\n",
    "        if estaciones[nodo]['patinetes_disponibles'] > 0:\n",
    "            estaciones[nodo]['patinetes_disponibles'] -= 1\n",
    "        else:\n",
    "            # Si no hay patinetes disponibles, aumentar el número de patinetes iniciales y slots (si fuese necesario)\n",
    "            estaciones[nodo]['patinetes_iniciales'] += 1\n",
    "            estaciones[nodo]['patinetes_disponibles'] = 0 #Se mantiene en 0 -> el patinete inicial adicional es el que se usa para al viaje\n",
    "            if estaciones[nodo]['patinetes_iniciales'] > estaciones[nodo]['slots']:\n",
    "                estaciones[nodo]['slots'] += 1\n",
    "\n",
    "    elif tipo == 'destino':\n",
    "        # Si es una llegada, aumentar el número de patinetes disponibles\n",
    "        if estaciones[nodo]['patinetes_disponibles'] < estaciones[nodo]['slots']:\n",
    "            estaciones[nodo]['patinetes_disponibles'] += 1\n",
    "        else:\n",
    "            # Si todos los slots están ocupados, aumentar el número de slots \n",
    "            estaciones[nodo]['slots'] += 1\n",
    "            estaciones[nodo]['patinetes_disponibles'] += 1\n",
    "            \n",
    "print(\"Simulación terminada\")\n",
    "# Guardar los resultados en un archivo CSV\n",
    "resultados = []\n",
    "for nodo, datos in estaciones.items():\n",
    "    resultados.append({\n",
    "        'estacion': nodo,\n",
    "        'patinetes_iniciales': datos['patinetes_iniciales'],\n",
    "        'slots': datos['slots'],\n",
    "        'patinetes_finales': datos['patinetes_disponibles'] \n",
    "    })\n",
    "\n",
    "resultados_df = pd.DataFrame(resultados)\n",
    "resultados_df.to_csv('dimensiones3.csv', index=False)\n",
    "print(\"Resultados guardados en dimensiones3.csv\")\n",
    "print(f\"Total de patinetes usados: {resultados_df['patinetes_iniciales'].sum()}\")"
   ]
  },
  {
   "cell_type": "markdown",
   "id": "dbfa6395-f8f4-4f3d-8efb-ee443026d29d",
   "metadata": {},
   "source": [
    "#### 79 estaciones"
   ]
  },
  {
   "cell_type": "code",
   "execution_count": 47,
   "id": "9b3769f1-47ff-4440-b2b2-848fcfdfe5c5",
   "metadata": {},
   "outputs": [
    {
     "name": "stdout",
     "output_type": "stream",
     "text": [
      "                   ts  nodo     tipo\n",
      "0 2021-02-01 00:21:03    33   origen\n",
      "1 2021-02-01 00:22:03    14  destino\n",
      "2 2021-02-01 03:49:03    43   origen\n",
      "3 2021-02-01 03:50:33    43  destino\n",
      "4 2021-02-01 05:17:34    45   origen\n"
     ]
    },
    {
     "data": {
      "text/plain": [
       "(None, 5439, 10878)"
      ]
     },
     "execution_count": 47,
     "metadata": {},
     "output_type": "execute_result"
    }
   ],
   "source": [
    "# Cargar datos desde el archivo CSV\n",
    "df = pd.read_csv(\"df_with_clusters2.csv\")\n",
    "df['tsD'] = pd.to_datetime(df['tsD'], format='%d/%m/%Y %H:%M:%S', dayfirst=True)\n",
    "df['tsO'] = pd.to_datetime(df['tsO'], format='%Y-%m-%d %H:%M:%S', dayfirst=False)\n",
    "\n",
    "# Filtrar los datos para usar solo los eventos entre el 1 de febrero y el 7 de febrero de 2021\n",
    "start_date = pd.to_datetime('2021-02-01')\n",
    "end_date = pd.to_datetime('2021-02-07')\n",
    "\n",
    "df = df[(df['tsO'].dt.date >= start_date.date()) & (df['tsO'].dt.date <= end_date.date())]\n",
    "\n",
    "# Dividir el DataFrame en dos y hacer copias para evitar el SettingWithCopyWarning\n",
    "df_tsO_clusterO = df[['tsO', 'clusterO']].copy()\n",
    "df_tsD_clusterD = df[['tsD', 'clusterD']].copy()\n",
    "\n",
    "# Añadir columna 'tipo' para indicar si es un cluster de origen o destino\n",
    "df_tsO_clusterO['tipo'] = 'origen'\n",
    "df_tsD_clusterD['tipo'] = 'destino'\n",
    "\n",
    "# Renombrar columnas para que tengan un nombre común ('ts' y 'cluster')\n",
    "df_tsO_clusterO.rename(columns={'tsO': 'ts', 'clusterO': 'nodo'}, inplace=True)\n",
    "df_tsD_clusterD.rename(columns={'tsD': 'ts', 'clusterD': 'nodo'}, inplace=True)\n",
    "\n",
    "# Concatenar ambos DataFrames\n",
    "df_combinado = pd.concat([df_tsO_clusterO, df_tsD_clusterD], ignore_index=True)\n",
    "\n",
    "# Ordenar por la columna temporal 'ts'\n",
    "df_combinado.sort_values(by='ts', inplace=True)\n",
    "\n",
    "# Restablecer el índice\n",
    "df_combinado.reset_index(drop=True, inplace=True)\n",
    "# Verificar el resultado\n",
    "print(df_combinado.head()), len(df), len(df_combinado)"
   ]
  },
  {
   "cell_type": "code",
   "execution_count": 49,
   "id": "d4f9e4ae-409d-4e34-9965-6443e08ddf5d",
   "metadata": {},
   "outputs": [
    {
     "name": "stdout",
     "output_type": "stream",
     "text": [
      "Simulación terminada\n",
      "Resultados guardados en dimensiones4.csv\n",
      "Total de patinetes usados: 547\n"
     ]
    }
   ],
   "source": [
    "# Inicializar las estaciones\n",
    "num_estaciones = 79\n",
    "estaciones = {\n",
    "    i: {\n",
    "        \"patinetes_iniciales\":1,\n",
    "        \"patinetes_disponibles\": 1,  # Inicialmente un patinete\n",
    "        \"slots\": 1  # Inicialmente un slot\n",
    "    }\n",
    "    for i in range(num_estaciones)\n",
    "}\n",
    "\n",
    "# Simulación de eventos\n",
    "for _, evento in df_combinado.iterrows():\n",
    "    nodo = evento['nodo']\n",
    "    tipo = evento['tipo']\n",
    "\n",
    "    if tipo == 'origen':\n",
    "        # Si es una salida, disminuir el número de patinetes disponibles\n",
    "        if estaciones[nodo]['patinetes_disponibles'] > 0:\n",
    "            estaciones[nodo]['patinetes_disponibles'] -= 1\n",
    "        else:\n",
    "            # Si no hay patinetes disponibles, aumentar el número de patinetes iniciales y slots (si fuese necesario)\n",
    "            estaciones[nodo]['patinetes_iniciales'] += 1\n",
    "            estaciones[nodo]['patinetes_disponibles'] = 0 #Se mantiene en 0 -> el patinete inicial adicional es el que se usa para al viaje\n",
    "            if estaciones[nodo]['patinetes_iniciales'] > estaciones[nodo]['slots']:\n",
    "                estaciones[nodo]['slots'] += 1\n",
    "\n",
    "    elif tipo == 'destino':\n",
    "        # Si es una llegada, aumentar el número de patinetes disponibles\n",
    "        if estaciones[nodo]['patinetes_disponibles'] < estaciones[nodo]['slots']:\n",
    "            estaciones[nodo]['patinetes_disponibles'] += 1\n",
    "        else:\n",
    "            # Si todos los slots están ocupados, aumentar el número de slots \n",
    "            estaciones[nodo]['slots'] += 1\n",
    "            estaciones[nodo]['patinetes_disponibles'] += 1\n",
    "            \n",
    "print(\"Simulación terminada\")\n",
    "# Guardar los resultados en un archivo CSV\n",
    "resultados = []\n",
    "for nodo, datos in estaciones.items():\n",
    "    resultados.append({\n",
    "        'estacion': nodo,\n",
    "        'patinetes_iniciales': datos['patinetes_iniciales'],\n",
    "        'slots': datos['slots'],\n",
    "        'patinetes_finales': datos['patinetes_disponibles'] \n",
    "    })\n",
    "\n",
    "resultados_df = pd.DataFrame(resultados)\n",
    "resultados_df.to_csv('dimensiones4.csv', index=False)\n",
    "print(\"Resultados guardados en dimensiones4.csv\")\n",
    "print(f\"Total de patinetes usados: {resultados_df['patinetes_iniciales'].sum()}\")"
   ]
  },
  {
   "cell_type": "code",
   "execution_count": null,
   "id": "48a4f4f0-a09e-4629-8556-edd04a19aec6",
   "metadata": {},
   "outputs": [],
   "source": []
  }
 ],
 "metadata": {
  "kernelspec": {
   "display_name": "Python 3 (ipykernel)",
   "language": "python",
   "name": "python3"
  },
  "language_info": {
   "codemirror_mode": {
    "name": "ipython",
    "version": 3
   },
   "file_extension": ".py",
   "mimetype": "text/x-python",
   "name": "python",
   "nbconvert_exporter": "python",
   "pygments_lexer": "ipython3",
   "version": "3.9.18"
  }
 },
 "nbformat": 4,
 "nbformat_minor": 5
}
