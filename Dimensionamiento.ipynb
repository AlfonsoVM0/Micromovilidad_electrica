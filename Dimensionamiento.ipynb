{
 "cells": [
  {
   "cell_type": "markdown",
   "id": "e8bd2ec7-ff77-4204-b93e-13984ad3a705",
   "metadata": {},
   "source": [
    "### Simulación de un día"
   ]
  },
  {
   "cell_type": "code",
   "execution_count": 16,
   "id": "19a36391-97e9-41d8-9f32-89bb9ca61e4b",
   "metadata": {},
   "outputs": [],
   "source": [
    "import plotly.express as px\n",
    "import plotly.graph_objects as go\n",
    "import pandas as pd\n",
    "import numpy as np\n",
    "from datetime import timedelta, datetime\n",
    "from ipywidgets import interact, widgets\n",
    "import matplotlib.pyplot as plt\n",
    "import matplotlib.colors as mcolors\n",
    "from matplotlib.colors import ListedColormap\n",
    "import matplotlib.cm as cm\n",
    "import seaborn as sns\n",
    "import os\n",
    "import folium\n",
    "from folium.plugins import HeatMap\n",
    "from folium.plugins import HeatMapWithTime\n",
    "import datetime\n",
    "from sklearn.cluster import KMeans\n",
    "from geopy.distance import geodesic \n",
    "import warnings\n",
    "from collections import defaultdict"
   ]
  },
  {
   "cell_type": "markdown",
   "id": "8ff2c623-0244-49e0-842e-ccfd9cf74645",
   "metadata": {},
   "source": [
    "#### Creación de un df combinado cronológico de salidas y llegadas (40 clusters)"
   ]
  },
  {
   "cell_type": "code",
   "execution_count": 24,
   "id": "d58e8e02-c5ba-4671-9473-a9b7b28e51b6",
   "metadata": {},
   "outputs": [
    {
     "name": "stdout",
     "output_type": "stream",
     "text": [
      "                   ts  cluster     tipo\n",
      "0 2021-02-26 00:15:23        2   origen\n",
      "1 2021-02-26 00:36:54       23   origen\n",
      "2 2021-02-26 00:38:43       23  destino\n",
      "3 2021-02-26 00:55:44       28   origen\n",
      "4 2021-02-26 00:59:43        2  destino\n"
     ]
    },
    {
     "data": {
      "text/plain": [
       "(None, 1110, 2220)"
      ]
     },
     "execution_count": 24,
     "metadata": {},
     "output_type": "execute_result"
    }
   ],
   "source": [
    "df = pd.read_csv(\"df_with_clusters.csv\")\n",
    "df['tsD'] = pd.to_datetime(df['tsD'], format='%d/%m/%Y %H:%M:%S', dayfirst=True)\n",
    "df['tsO'] = pd.to_datetime(df['tsO'], format='%Y-%m-%d %H:%M:%S', dayfirst=False)\n",
    "\n",
    "# Filtrar los datos para usar solo los del día 26 de febrero de 2021 \n",
    "df = df[(df['tsO'].dt.date == pd.to_datetime('2021-02-26').date())]\n",
    "# Dividir el DataFrame en dos y hacer copias para evitar el SettingWithCopyWarning\n",
    "df_tsO_clusterO = df[['tsO', 'clusterO']].copy()\n",
    "df_tsD_clusterD = df[['tsD', 'clusterD']].copy()\n",
    "\n",
    "# Añadir columna 'tipo' para indicar si es un cluster de origen o destino\n",
    "df_tsO_clusterO['tipo'] = 'origen'\n",
    "df_tsD_clusterD['tipo'] = 'destino'\n",
    "\n",
    "# Renombrar columnas para que tengan un nombre común ('ts' y 'cluster')\n",
    "df_tsO_clusterO.rename(columns={'tsO': 'ts', 'clusterO': 'cluster'}, inplace=True)\n",
    "df_tsD_clusterD.rename(columns={'tsD': 'ts', 'clusterD': 'cluster'}, inplace=True)\n",
    "\n",
    "# Concatenar ambos DataFrames\n",
    "df_combinado = pd.concat([df_tsO_clusterO, df_tsD_clusterD], ignore_index=True)\n",
    "\n",
    "# Ordenar por la columna temporal 'ts'\n",
    "df_combinado.sort_values(by='ts', inplace=True)\n",
    "\n",
    "# Restablecer el índice\n",
    "df_combinado.reset_index(drop=True, inplace=True)\n",
    "\n",
    "# Verificar el resultado\n",
    "print(df_combinado.head()), len(df), len(df_combinado)\n"
   ]
  },
  {
   "cell_type": "code",
   "execution_count": 26,
   "id": "b7da4f1b-668e-40da-a7f3-d6b819ca6497",
   "metadata": {},
   "outputs": [
    {
     "name": "stdout",
     "output_type": "stream",
     "text": [
      "Simulación terminada\n",
      "Resultados guardados en dimensiones.csv\n",
      "Total de patinetes usados: 114\n"
     ]
    }
   ],
   "source": [
    "# Filtrar los datos para quitar las llegadas en el día siguiente- 27 de febrero de 2021\n",
    "df = df[(df['tsO'].dt.date == pd.to_datetime('2021-02-26').date())]\n",
    "\n",
    "# Inicializar las estaciones\n",
    "num_estaciones = 40\n",
    "estaciones = {\n",
    "    i: {\n",
    "        \"patinetes_iniciales\":1,\n",
    "        \"patinetes_disponibles\": 1,  # Inicialmente un patinete\n",
    "        \"slots\": 1  # Inicialmente un slot\n",
    "    }\n",
    "    for i in range(num_estaciones)\n",
    "}\n",
    "\n",
    "# Crear un DataFrame de eventos, con cada salida y llegada como eventos separados\n",
    "df_salidas = df[['tsO', 'clusterO']].copy()\n",
    "df_salidas['tipo'] = 'salida'\n",
    "df_salidas.rename(columns={'tsO': 'timestamp', 'clusterO': 'nodo'}, inplace=True)\n",
    "\n",
    "df_llegadas = df[['tsD', 'clusterD']].copy()\n",
    "df_llegadas['tipo'] = 'llegada'\n",
    "df_llegadas.rename(columns={'tsD': 'timestamp', 'clusterD': 'nodo'}, inplace=True)\n",
    "\n",
    "# Concatenar salidas y llegadas y ordenar por timestamp\n",
    "eventos = pd.concat([df_salidas, df_llegadas], ignore_index=True)\n",
    "eventos.sort_values(by='timestamp', inplace=True)\n",
    "eventos.reset_index(drop=True, inplace=True)\n",
    "\n",
    "# Simulación de eventos\n",
    "for _, evento in eventos.iterrows():\n",
    "    nodo = evento['nodo']\n",
    "    tipo = evento['tipo']\n",
    "\n",
    "    if tipo == 'salida':\n",
    "        # Si es una salida, disminuir el número de patinetes disponibles\n",
    "        if estaciones[nodo]['patinetes_disponibles'] > 0:\n",
    "            estaciones[nodo]['patinetes_disponibles'] -= 1\n",
    "        else:\n",
    "            # Si no hay patinetes disponibles, aumentar el número de patinetes iniciales, disponibles y slots\n",
    "            estaciones[nodo]['patinetes_iniciales'] += 1\n",
    "            estaciones[nodo]['patinetes_disponibles'] += 1\n",
    "            estaciones[nodo]['slots'] += 1\n",
    "\n",
    "    elif tipo == 'llegada':\n",
    "        # Si es una llegada, aumentar el número de patinetes disponibles\n",
    "        if estaciones[nodo]['patinetes_disponibles'] < estaciones[nodo]['slots']:\n",
    "            estaciones[nodo]['patinetes_disponibles'] += 1\n",
    "        else:\n",
    "            # Si todos los slots están ocupados, aumentar el número de slots\n",
    "            estaciones[nodo]['slots'] += 1\n",
    "            estaciones[nodo]['patinetes_disponibles'] += 1\n",
    "print(\"Simulación terminada\")\n",
    "# Guardar los resultados en un archivo CSV\n",
    "resultados = []\n",
    "for nodo, datos in estaciones.items():\n",
    "    resultados.append({\n",
    "        'estacion': nodo,\n",
    "        'patinetes_iniciales': datos['patinetes_iniciales'],\n",
    "        'slots': datos['slots']\n",
    "    })\n",
    "\n",
    "resultados_df = pd.DataFrame(resultados)\n",
    "resultados_df.to_csv('dimensiones.csv', index=False)\n",
    "print(\"Resultados guardados en dimensiones.csv\")\n",
    "print(f\"Total de patinetes usados: {resultados_df['patinetes_iniciales'].sum()}\")"
   ]
  },
  {
   "cell_type": "markdown",
   "id": "75a5c5fb-f692-4503-9da3-a2b4b4e56a15",
   "metadata": {},
   "source": [
    "#### 79 estaciones"
   ]
  },
  {
   "cell_type": "code",
   "execution_count": 28,
   "id": "dc3b33b1-d5d6-45a2-be03-9a54a5e48a0c",
   "metadata": {},
   "outputs": [
    {
     "name": "stdout",
     "output_type": "stream",
     "text": [
      "                   ts  cluster     tipo\n",
      "0 2021-02-26 00:15:23       20   origen\n",
      "1 2021-02-26 00:36:54        9   origen\n",
      "2 2021-02-26 00:38:43        9  destino\n",
      "3 2021-02-26 00:55:44       56   origen\n",
      "4 2021-02-26 00:59:43       20  destino\n"
     ]
    },
    {
     "data": {
      "text/plain": [
       "(None, 1108, 2216)"
      ]
     },
     "execution_count": 28,
     "metadata": {},
     "output_type": "execute_result"
    }
   ],
   "source": [
    "df = pd.read_csv(\"df_with_clusters2.csv\")\n",
    "df['tsD'] = pd.to_datetime(df['tsD'], format='%d/%m/%Y %H:%M:%S', dayfirst=True)\n",
    "df['tsO'] = pd.to_datetime(df['tsO'], format='%Y-%m-%d %H:%M:%S', dayfirst=False)\n",
    "\n",
    "# Filtrar los datos para usar solo los del día 26 de febrero de 2021 \n",
    "df = df[(df['tsO'].dt.date == pd.to_datetime('2021-02-26').date())]\n",
    "# Dividir el DataFrame en dos y hacer copias para evitar el SettingWithCopyWarning\n",
    "df_tsO_clusterO = df[['tsO', 'clusterO']].copy()\n",
    "df_tsD_clusterD = df[['tsD', 'clusterD']].copy()\n",
    "\n",
    "# Añadir columna 'tipo' para indicar si es un cluster de origen o destino\n",
    "df_tsO_clusterO['tipo'] = 'origen'\n",
    "df_tsD_clusterD['tipo'] = 'destino'\n",
    "\n",
    "# Renombrar columnas para que tengan un nombre común ('ts' y 'cluster')\n",
    "df_tsO_clusterO.rename(columns={'tsO': 'ts', 'clusterO': 'cluster'}, inplace=True)\n",
    "df_tsD_clusterD.rename(columns={'tsD': 'ts', 'clusterD': 'cluster'}, inplace=True)\n",
    "\n",
    "# Concatenar ambos DataFrames\n",
    "df_combinado = pd.concat([df_tsO_clusterO, df_tsD_clusterD], ignore_index=True)\n",
    "\n",
    "# Ordenar por la columna temporal 'ts'\n",
    "df_combinado.sort_values(by='ts', inplace=True)\n",
    "\n",
    "# Restablecer el índice\n",
    "df_combinado.reset_index(drop=True, inplace=True)\n",
    "\n",
    "# Verificar el resultado\n",
    "print(df_combinado.head()), len(df), len(df_combinado)\n"
   ]
  },
  {
   "cell_type": "code",
   "execution_count": 30,
   "id": "176fcca7-5846-41e8-93f7-ce5a0e5d6bfe",
   "metadata": {},
   "outputs": [
    {
     "name": "stdout",
     "output_type": "stream",
     "text": [
      "Simulación terminada\n",
      "Resultados guardados en dimensiones2.csv\n",
      "Total de patinetes usados: 175\n"
     ]
    }
   ],
   "source": [
    "# Filtrar los datos para quitar las llegadas en el día siguiente- 27 de febrero de 2021\n",
    "df = df[(df['tsO'].dt.date == pd.to_datetime('2021-02-26').date())]\n",
    "\n",
    "# Inicializar las estaciones\n",
    "num_estaciones = 79\n",
    "estaciones = {\n",
    "    i: {\n",
    "        \"patinetes_iniciales\":1,\n",
    "        \"patinetes_disponibles\": 1,  # Inicialmente un patinete\n",
    "        \"slots\": 1  # Inicialmente un slot\n",
    "    }\n",
    "    for i in range(num_estaciones)\n",
    "}\n",
    "\n",
    "# Crear un DataFrame de eventos, con cada salida y llegada como eventos separados\n",
    "df_salidas = df[['tsO', 'clusterO']].copy()\n",
    "df_salidas['tipo'] = 'salida'\n",
    "df_salidas.rename(columns={'tsO': 'timestamp', 'clusterO': 'nodo'}, inplace=True)\n",
    "\n",
    "df_llegadas = df[['tsD', 'clusterD']].copy()\n",
    "df_llegadas['tipo'] = 'llegada'\n",
    "df_llegadas.rename(columns={'tsD': 'timestamp', 'clusterD': 'nodo'}, inplace=True)\n",
    "\n",
    "# Concatenar salidas y llegadas y ordenar por timestamp\n",
    "eventos = pd.concat([df_salidas, df_llegadas], ignore_index=True)\n",
    "eventos.sort_values(by='timestamp', inplace=True)\n",
    "eventos.reset_index(drop=True, inplace=True)\n",
    "\n",
    "# Simulación de eventos\n",
    "for _, evento in eventos.iterrows():\n",
    "    nodo = evento['nodo']\n",
    "    tipo = evento['tipo']\n",
    "\n",
    "    if tipo == 'salida':\n",
    "        # Si es una salida, disminuir el número de patinetes disponibles\n",
    "        if estaciones[nodo]['patinetes_disponibles'] > 0:\n",
    "            estaciones[nodo]['patinetes_disponibles'] -= 1\n",
    "        else:\n",
    "            # Si no hay patinetes disponibles, aumentar el número de patinetes iniciales, disponibles y slots\n",
    "            estaciones[nodo]['patinetes_iniciales'] += 1\n",
    "            estaciones[nodo]['patinetes_disponibles'] += 1\n",
    "            estaciones[nodo]['slots'] += 1\n",
    "\n",
    "    elif tipo == 'llegada':\n",
    "        # Si es una llegada, aumentar el número de patinetes disponibles\n",
    "        if estaciones[nodo]['patinetes_disponibles'] < estaciones[nodo]['slots']:\n",
    "            estaciones[nodo]['patinetes_disponibles'] += 1\n",
    "        else:\n",
    "            # Si todos los slots están ocupados, aumentar el número de slots\n",
    "            estaciones[nodo]['slots'] += 1\n",
    "            estaciones[nodo]['patinetes_disponibles'] += 1\n",
    "print(\"Simulación terminada\")\n",
    "# Guardar los resultados en un archivo CSV\n",
    "resultados = []\n",
    "for nodo, datos in estaciones.items():\n",
    "    resultados.append({\n",
    "        'estacion': nodo,\n",
    "        'patinetes_iniciales': datos['patinetes_iniciales'],\n",
    "        'slots': datos['slots']\n",
    "    })\n",
    "\n",
    "resultados_df = pd.DataFrame(resultados)\n",
    "resultados_df.to_csv('dimensiones2.csv', index=False)\n",
    "print(\"Resultados guardados en dimensiones2.csv\")\n",
    "print(f\"Total de patinetes usados: {resultados_df['patinetes_iniciales'].sum()}\")"
   ]
  },
  {
   "cell_type": "code",
   "execution_count": null,
   "id": "93014a1e-f3f0-4bc3-ae7f-94d7cc530672",
   "metadata": {},
   "outputs": [],
   "source": []
  }
 ],
 "metadata": {
  "kernelspec": {
   "display_name": "Python 3 (ipykernel)",
   "language": "python",
   "name": "python3"
  },
  "language_info": {
   "codemirror_mode": {
    "name": "ipython",
    "version": 3
   },
   "file_extension": ".py",
   "mimetype": "text/x-python",
   "name": "python",
   "nbconvert_exporter": "python",
   "pygments_lexer": "ipython3",
   "version": "3.9.18"
  }
 },
 "nbformat": 4,
 "nbformat_minor": 5
}
