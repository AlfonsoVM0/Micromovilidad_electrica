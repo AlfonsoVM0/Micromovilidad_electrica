


import plotly.express as px
import plotly.graph_objects as go
import pandas as pd
import numpy as npA
from datetime import timedelta, datetime
from ipywidgets import interact, widgets
import matplotlib.pyplot as plt
import matplotlib.colors as mcolors
from matplotlib.colors import ListedColormap
import matplotlib.cm as cm
import seaborn as sns
import os
import folium
from folium.plugins import HeatMap
from folium.plugins import HeatMapWithTime
import datetime
from sklearn.cluster import KMeans
from geopy.distance import geodesic 
import warnings
from collections import defaultdict
import requests





df = pd.read_csv("df_with_clusters.csv")
df['tsD'] = pd.to_datetime(df['tsD'], format='%d/%m/%Y %H:%M:%S', dayfirst=True)
df['tsO'] = pd.to_datetime(df['tsO'], format='%Y-%m-%d %H:%M:%S', dayfirst=False)

# Filtrar los datos para usar solo los del día 26 de febrero de 2021 
df = df[(df['tsO'].dt.date == pd.to_datetime('2021-02-26').date())]
# Dividir el DataFrame en dos y hacer copias para evitar el SettingWithCopyWarning
df_tsO_clusterO = df[['tsO', 'clusterO']].copy()
df_tsD_clusterD = df[['tsD', 'clusterD']].copy()

# Añadir columna 'tipo' para indicar si es un cluster de origen o destino
df_tsO_clusterO['tipo'] = 'origen'
df_tsD_clusterD['tipo'] = 'destino'

# Renombrar columnas para que tengan un nombre común ('ts' y 'cluster')
df_tsO_clusterO.rename(columns={'tsO': 'ts', 'clusterO': 'nodo'}, inplace=True)
df_tsD_clusterD.rename(columns={'tsD': 'ts', 'clusterD': 'nodo'}, inplace=True)

# Concatenar ambos DataFrames
df_combinado = pd.concat([df_tsO_clusterO, df_tsD_clusterD], ignore_index=True)

# Ordenar por la columna temporal 'ts'
df_combinado.sort_values(by='ts', inplace=True)

# Restablecer el índice
df_combinado.reset_index(drop=True, inplace=True)
# Verificar el resultado
print(df_combinado.head()), len(df), len(df_combinado)



# Inicializar las estaciones
num_estaciones = 40
estaciones = {
    i: {
        "patinetes_iniciales":1,
        "patinetes_disponibles": 1,  # Inicialmente un patinete
        "slots": 1  # Inicialmente un slot
    }
    for i in range(num_estaciones)
}

# Simulación de eventos
for _, evento in df_combinado.iterrows():
    nodo = evento['nodo']
    tipo = evento['tipo']

    if tipo == 'origen':
        # Si es una salida, disminuir el número de patinetes disponibles
        if estaciones[nodo]['patinetes_disponibles'] > 0:
            estaciones[nodo]['patinetes_disponibles'] -= 1
        else:
            # Si no hay patinetes disponibles, aumentar el número de patinetes iniciales y slots (si fuese necesario)
            estaciones[nodo]['patinetes_iniciales'] += 1
            estaciones[nodo]['patinetes_disponibles'] = 0 #Se mantiene en 0 -> el patinete inicial adicional es el que se usa para al viaje
            if estaciones[nodo]['patinetes_iniciales'] > estaciones[nodo]['slots']:
                estaciones[nodo]['slots'] += 1

    elif tipo == 'destino':
        # Si es una llegada, aumentar el número de patinetes disponibles
        if estaciones[nodo]['patinetes_disponibles'] < estaciones[nodo]['slots']:
            estaciones[nodo]['patinetes_disponibles'] += 1
        else:
            # Si todos los slots están ocupados, aumentar el número de slots 
            estaciones[nodo]['slots'] += 1
            estaciones[nodo]['patinetes_disponibles'] += 1
            
print("Simulación terminada")
# Guardar los resultados en un archivo CSV
resultados = []
for nodo, datos in estaciones.items():
    resultados.append({
        'estacion': nodo,
        'patinetes_iniciales': datos['patinetes_iniciales'],
        'slots': datos['slots'],
        'patinetes_finales': datos['patinetes_disponibles'] 
    })

resultados_df = pd.DataFrame(resultados)
resultados_df.to_csv('dimensiones.csv', index=False)
print("Resultados guardados en dimensiones.csv")
print(f"Total de patinetes usados: {resultados_df['patinetes_iniciales'].sum()}")





df = pd.read_csv("df_with_clusters2.csv")
df['tsD'] = pd.to_datetime(df['tsD'], format='%d/%m/%Y %H:%M:%S', dayfirst=True)
df['tsO'] = pd.to_datetime(df['tsO'], format='%Y-%m-%d %H:%M:%S', dayfirst=False)

# Filtrar los datos para usar solo los del día 26 de febrero de 2021 
df = df[(df['tsO'].dt.date == pd.to_datetime('2021-02-26').date())]
# Dividir el DataFrame en dos y hacer copias para evitar el SettingWithCopyWarning
df_tsO_clusterO = df[['tsO', 'clusterO']].copy()
df_tsD_clusterD = df[['tsD', 'clusterD']].copy()

# Añadir columna 'tipo' para indicar si es un cluster de origen o destino
df_tsO_clusterO['tipo'] = 'origen'
df_tsD_clusterD['tipo'] = 'destino'

# Renombrar columnas para que tengan un nombre común ('ts' y 'cluster')
df_tsO_clusterO.rename(columns={'tsO': 'ts', 'clusterO': 'nodo'}, inplace=True)
df_tsD_clusterD.rename(columns={'tsD': 'ts', 'clusterD': 'nodo'}, inplace=True)

# Concatenar ambos DataFrames
df_combinado = pd.concat([df_tsO_clusterO, df_tsD_clusterD], ignore_index=True)

# Ordenar por la columna temporal 'ts'
df_combinado.sort_values(by='ts', inplace=True)

# Restablecer el índice
df_combinado.reset_index(drop=True, inplace=True)
# Verificar el resultado
print(df_combinado.head()), len(df), len(df_combinado)



# Inicializar las estaciones
num_estaciones = 79
estaciones = {
    i: {
        "patinetes_iniciales":1,
        "patinetes_disponibles": 1,  # Inicialmente un patinete
        "slots": 1  # Inicialmente un slot
    }
    for i in range(num_estaciones)
}

# Simulación de eventos
for _, evento in df_combinado.iterrows():
    nodo = evento['nodo']
    tipo = evento['tipo']

    if tipo == 'origen':
        # Si es una salida, disminuir el número de patinetes disponibles
        if estaciones[nodo]['patinetes_disponibles'] > 0:
            estaciones[nodo]['patinetes_disponibles'] -= 1
        else:
            # Si no hay patinetes disponibles, aumentar el número de patinetes iniciales y slots (si fuese necesario)
            estaciones[nodo]['patinetes_iniciales'] += 1
            estaciones[nodo]['patinetes_disponibles'] = 0 #Se mantiene en 0 -> el patinete inicial adicional es el que se usa para al viaje
            if estaciones[nodo]['patinetes_iniciales'] > estaciones[nodo]['slots']:
                estaciones[nodo]['slots'] += 1

    elif tipo == 'destino':
        # Si es una llegada, aumentar el número de patinetes disponibles
        if estaciones[nodo]['patinetes_disponibles'] < estaciones[nodo]['slots']:
            estaciones[nodo]['patinetes_disponibles'] += 1
        else:
            # Si todos los slots están ocupados, aumentar el número de slots 
            estaciones[nodo]['slots'] += 1
            estaciones[nodo]['patinetes_disponibles'] += 1
            
print("Simulación terminada")
# Guardar los resultados en un archivo CSV
resultados = []
for nodo, datos in estaciones.items():
    resultados.append({
        'estacion': nodo,
        'patinetes_iniciales': datos['patinetes_iniciales'],
        'slots': datos['slots'],
        'patinetes_finales': datos['patinetes_disponibles'] 
    })

resultados_df = pd.DataFrame(resultados)
resultados_df.to_csv('dimensiones2.csv', index=False)
print("Resultados guardados en dimensiones2.csv")
print(f"Total de patinetes usados: {resultados_df['patinetes_iniciales'].sum()}")








# Cargar datos desde el archivo CSV
df = pd.read_csv("df_with_clusters.csv")
df['tsD'] = pd.to_datetime(df['tsD'], format='%d/%m/%Y %H:%M:%S', dayfirst=True)
df['tsO'] = pd.to_datetime(df['tsO'], format='%Y-%m-%d %H:%M:%S', dayfirst=False)

# Filtrar los datos para usar solo los eventos entre el 1 de febrero y el 7 de febrero de 2021
start_date = pd.to_datetime('2021-02-01')
end_date = pd.to_datetime('2021-02-07')

df = df[(df['tsO'].dt.date >= start_date.date()) & (df['tsO'].dt.date <= end_date.date())]

# Dividir el DataFrame en dos y hacer copias para evitar el SettingWithCopyWarning
df_tsO_clusterO = df[['tsO', 'clusterO']].copy()
df_tsD_clusterD = df[['tsD', 'clusterD']].copy()

# Añadir columna 'tipo' para indicar si es un cluster de origen o destino
df_tsO_clusterO['tipo'] = 'origen'
df_tsD_clusterD['tipo'] = 'destino'

# Renombrar columnas para que tengan un nombre común ('ts' y 'cluster')
df_tsO_clusterO.rename(columns={'tsO': 'ts', 'clusterO': 'nodo'}, inplace=True)
df_tsD_clusterD.rename(columns={'tsD': 'ts', 'clusterD': 'nodo'}, inplace=True)

# Concatenar ambos DataFrames
df_combinado = pd.concat([df_tsO_clusterO, df_tsD_clusterD], ignore_index=True)

# Ordenar por la columna temporal 'ts'
df_combinado.sort_values(by='ts', inplace=True)

# Restablecer el índice
df_combinado.reset_index(drop=True, inplace=True)
# Verificar el resultado
print(df_combinado.head()), len(df), len(df_combinado)


# Inicializar las estaciones
num_estaciones = 40
estaciones = {
    i: {
        "patinetes_iniciales":1,
        "patinetes_disponibles": 1,  # Inicialmente un patinete
        "slots": 1  # Inicialmente un slot
    }
    for i in range(num_estaciones)
}

# Simulación de eventos
for _, evento in df_combinado.iterrows():
    nodo = evento['nodo']
    tipo = evento['tipo']

    if tipo == 'origen':
        # Si es una salida, disminuir el número de patinetes disponibles
        if estaciones[nodo]['patinetes_disponibles'] > 0:
            estaciones[nodo]['patinetes_disponibles'] -= 1
        else:
            # Si no hay patinetes disponibles, aumentar el número de patinetes iniciales y slots (si fuese necesario)
            estaciones[nodo]['patinetes_iniciales'] += 1
            estaciones[nodo]['patinetes_disponibles'] = 0 #Se mantiene en 0 -> el patinete inicial adicional es el que se usa para al viaje
            if estaciones[nodo]['patinetes_iniciales'] > estaciones[nodo]['slots']:
                estaciones[nodo]['slots'] += 1

    elif tipo == 'destino':
        # Si es una llegada, aumentar el número de patinetes disponibles
        if estaciones[nodo]['patinetes_disponibles'] < estaciones[nodo]['slots']:
            estaciones[nodo]['patinetes_disponibles'] += 1
        else:
            # Si todos los slots están ocupados, aumentar el número de slots 
            estaciones[nodo]['slots'] += 1
            estaciones[nodo]['patinetes_disponibles'] += 1
            
print("Simulación terminada")
# Guardar los resultados en un archivo CSV
resultados = []
for nodo, datos in estaciones.items():
    resultados.append({
        'estacion': nodo,
        'patinetes_iniciales': datos['patinetes_iniciales'],
        'slots': datos['slots'],
        'patinetes_finales': datos['patinetes_disponibles'] 
    })

resultados_df = pd.DataFrame(resultados)
resultados_df.to_csv('dimensiones3.csv', index=False)
print("Resultados guardados en dimensiones3.csv")
print(f"Total de patinetes usados: {resultados_df['patinetes_iniciales'].sum()}")





# Cargar datos desde el archivo CSV
df = pd.read_csv("df_with_clusters2.csv")
df['tsD'] = pd.to_datetime(df['tsD'], format='%d/%m/%Y %H:%M:%S', dayfirst=True)
df['tsO'] = pd.to_datetime(df['tsO'], format='%Y-%m-%d %H:%M:%S', dayfirst=False)

# Filtrar los datos para usar solo los eventos entre el 1 de febrero y el 7 de febrero de 2021
start_date = pd.to_datetime('2021-02-01')
end_date = pd.to_datetime('2021-02-07')

df = df[(df['tsO'].dt.date >= start_date.date()) & (df['tsO'].dt.date <= end_date.date())]

# Dividir el DataFrame en dos y hacer copias para evitar el SettingWithCopyWarning
df_tsO_clusterO = df[['tsO', 'clusterO']].copy()
df_tsD_clusterD = df[['tsD', 'clusterD']].copy()

# Añadir columna 'tipo' para indicar si es un cluster de origen o destino
df_tsO_clusterO['tipo'] = 'origen'
df_tsD_clusterD['tipo'] = 'destino'

# Renombrar columnas para que tengan un nombre común ('ts' y 'cluster')
df_tsO_clusterO.rename(columns={'tsO': 'ts', 'clusterO': 'nodo'}, inplace=True)
df_tsD_clusterD.rename(columns={'tsD': 'ts', 'clusterD': 'nodo'}, inplace=True)

# Concatenar ambos DataFrames
df_combinado = pd.concat([df_tsO_clusterO, df_tsD_clusterD], ignore_index=True)

# Ordenar por la columna temporal 'ts'
df_combinado.sort_values(by='ts', inplace=True)

# Restablecer el índice
df_combinado.reset_index(drop=True, inplace=True)
# Verificar el resultado
print(df_combinado.head()), len(df), len(df_combinado)


# Inicializar las estaciones
num_estaciones = 79
estaciones = {
    i: {
        "patinetes_iniciales":1,
        "patinetes_disponibles": 1,  # Inicialmente un patinete
        "slots": 1  # Inicialmente un slot
    }
    for i in range(num_estaciones)
}

# Simulación de eventos
for _, evento in df_combinado.iterrows():
    nodo = evento['nodo']
    tipo = evento['tipo']

    if tipo == 'origen':
        # Si es una salida, disminuir el número de patinetes disponibles
        if estaciones[nodo]['patinetes_disponibles'] > 0:
            estaciones[nodo]['patinetes_disponibles'] -= 1
        else:
            # Si no hay patinetes disponibles, aumentar el número de patinetes iniciales y slots (si fuese necesario)
            estaciones[nodo]['patinetes_iniciales'] += 1
            estaciones[nodo]['patinetes_disponibles'] = 0 #Se mantiene en 0 -> el patinete inicial adicional es el que se usa para al viaje
            if estaciones[nodo]['patinetes_iniciales'] > estaciones[nodo]['slots']:
                estaciones[nodo]['slots'] += 1

    elif tipo == 'destino':
        # Si es una llegada, aumentar el número de patinetes disponibles
        if estaciones[nodo]['patinetes_disponibles'] < estaciones[nodo]['slots']:
            estaciones[nodo]['patinetes_disponibles'] += 1
        else:
            # Si todos los slots están ocupados, aumentar el número de slots 
            estaciones[nodo]['slots'] += 1
            estaciones[nodo]['patinetes_disponibles'] += 1
            
print("Simulación terminada")
# Guardar los resultados en un archivo CSV
resultados = []
for nodo, datos in estaciones.items():
    resultados.append({
        'estacion': nodo,
        'patinetes_iniciales': datos['patinetes_iniciales'],
        'slots': datos['slots'],
        'patinetes_finales': datos['patinetes_disponibles'] 
    })

resultados_df = pd.DataFrame(resultados)
resultados_df.to_csv('dimensiones4.csv', index=False)
print("Resultados guardados en dimensiones4.csv")
print(f"Total de patinetes usados: {resultados_df['patinetes_iniciales'].sum()}")








# Leer el archivo CSV
df = pd.read_csv("df_with_clusters.csv")
df['tsD'] = pd.to_datetime(df['tsD'], format='%d/%m/%Y %H:%M:%S', dayfirst=True)
df['tsO'] = pd.to_datetime(df['tsO'], format='%Y-%m-%d %H:%M:%S', dayfirst=False)

# Crear DataFrame combinado
df_tsO_clusterO = df[['tsO', 'clusterO']].copy()
df_tsD_clusterD = df[['tsD', 'clusterD']].copy()

df_tsO_clusterO['tipo'] = 'origen'
df_tsD_clusterD['tipo'] = 'destino'

df_tsO_clusterO.rename(columns={'tsO': 'ts', 'clusterO': 'nodo'}, inplace=True)
df_tsD_clusterD.rename(columns={'tsD': 'ts', 'clusterD': 'nodo'}, inplace=True)

df_combinado = pd.concat([df_tsO_clusterO, df_tsD_clusterD], ignore_index=True)
df_combinado.sort_values(by='ts', inplace=True)
df_combinado.reset_index(drop=True, inplace=True)
print(df_combinado.head()), len(df), len(df_combinado)


# Inicializar las estaciones
from datetime import datetime as dt, timedelta
# Inicializar las estaciones
num_estaciones = 40
estaciones = {
    i: {
        "patinetes_iniciales":1,
        "patinetes_disponibles": 1,  # Inicialmente un patinete
        "slots": 1  # Inicialmente un slot
    }
    for i in range(num_estaciones)
}

# Filtrar datos por día y simular
inicio_mes = dt(2021, 2, 1)
fin_mes = dt(2021, 2, 28)

for dia in range((fin_mes - inicio_mes).days + 1):
    fecha_actual = inicio_mes + timedelta(days=dia)
    siguiente_dia = fecha_actual + timedelta(days=1)

    # Filtrar datos del día actual
    df_dia = df_combinado[(df_combinado['ts'] >= fecha_actual) & (df_combinado['ts'] < siguiente_dia)]

    # Simular eventos
    for _, evento in df_dia.iterrows():
        nodo = evento['nodo']
        tipo = evento['tipo']

        if tipo == 'origen':
            if estaciones[nodo]['patinetes_disponibles'] > 0:
                estaciones[nodo]['patinetes_disponibles'] -= 1
            else:
                estaciones[nodo]['patinetes_iniciales'] += 1
                estaciones[nodo]['patinetes_disponibles'] = 0
                if estaciones[nodo]['patinetes_iniciales'] > estaciones[nodo]['slots']:
                    estaciones[nodo]['slots'] += 1

        elif tipo == 'destino':
            if estaciones[nodo]['patinetes_disponibles'] < estaciones[nodo]['slots']:
                estaciones[nodo]['patinetes_disponibles'] += 1
            else:
                estaciones[nodo]['slots'] += 1
                estaciones[nodo]['patinetes_disponibles'] += 1

    # Actualizar las estaciones globales al final del día
    for nodo, datos in estaciones.items():
        estaciones[nodo]['patinetes_disponibles'] = estaciones[nodo]['patinetes_iniciales']
        

print("Simulación terminada")

# Guardar los resultados en un archivo CSV
resultados = []
for nodo, datos in estaciones.items():
    resultados.append({
        'estacion': nodo,
        'patinetes_iniciales': datos['patinetes_iniciales'],
        'slots': datos['slots']
    })

resultados_df = pd.DataFrame(resultados)
resultados_df.to_csv('dimensiones_mes1.csv', index=False)
print("Resultados guardados en dimensiones_mes1.csv")
print(f"Total de patinetes usados: {resultados_df['patinetes_iniciales'].sum()}")





# Leer el archivo CSV
df = pd.read_csv("df_with_clusters2.csv")
df['tsD'] = pd.to_datetime(df['tsD'], format='%d/%m/%Y %H:%M:%S', dayfirst=True)
df['tsO'] = pd.to_datetime(df['tsO'], format='%Y-%m-%d %H:%M:%S', dayfirst=False)

# Crear DataFrame combinado
df_tsO_clusterO = df[['tsO', 'clusterO']].copy()
df_tsD_clusterD = df[['tsD', 'clusterD']].copy()

df_tsO_clusterO['tipo'] = 'origen'
df_tsD_clusterD['tipo'] = 'destino'

df_tsO_clusterO.rename(columns={'tsO': 'ts', 'clusterO': 'nodo'}, inplace=True)
df_tsD_clusterD.rename(columns={'tsD': 'ts', 'clusterD': 'nodo'}, inplace=True)

df_combinado = pd.concat([df_tsO_clusterO, df_tsD_clusterD], ignore_index=True)
df_combinado.sort_values(by='ts', inplace=True)
df_combinado.reset_index(drop=True, inplace=True)
print(df_combinado.head()), len(df), len(df_combinado)


# Inicializar las estaciones
from datetime import datetime as dt, timedelta
# Inicializar las estaciones
num_estaciones = 79
estaciones = {
    i: {
        "patinetes_iniciales":1,
        "patinetes_disponibles": 1,  # Inicialmente un patinete
        "slots": 1  # Inicialmente un slot
    }
    for i in range(num_estaciones)
}

# Filtrar datos por día y simular
inicio_mes = dt(2021, 2, 1)
fin_mes = dt(2021, 2, 28)

for dia in range((fin_mes - inicio_mes).days + 1):
    fecha_actual = inicio_mes + timedelta(days=dia)
    siguiente_dia = fecha_actual + timedelta(days=1)

    # Filtrar datos del día actual
    df_dia = df_combinado[(df_combinado['ts'] >= fecha_actual) & (df_combinado['ts'] < siguiente_dia)]

    # Simular eventos
    for _, evento in df_dia.iterrows():
        nodo = evento['nodo']
        tipo = evento['tipo']

        if tipo == 'origen':
            if estaciones[nodo]['patinetes_disponibles'] > 0:
                estaciones[nodo]['patinetes_disponibles'] -= 1
            else:
                estaciones[nodo]['patinetes_iniciales'] += 1
                estaciones[nodo]['patinetes_disponibles'] = 0
                if estaciones[nodo]['patinetes_iniciales'] > estaciones[nodo]['slots']:
                    estaciones[nodo]['slots'] += 1

        elif tipo == 'destino':
            if estaciones[nodo]['patinetes_disponibles'] < estaciones[nodo]['slots']:
                estaciones[nodo]['patinetes_disponibles'] += 1
            else:
                estaciones[nodo]['slots'] += 1
                estaciones[nodo]['patinetes_disponibles'] += 1

    # Actualizar las estaciones globales al final del día
    for nodo, datos in estaciones.items():
        estaciones[nodo]['patinetes_disponibles'] = estaciones[nodo]['patinetes_iniciales']
        

print("Simulación terminada")

# Guardar los resultados en un archivo CSV
resultados = []
for nodo, datos in estaciones.items():
    resultados.append({
        'estacion': nodo,
        'patinetes_iniciales': datos['patinetes_iniciales'],
        'slots': datos['slots']
    })

resultados_df = pd.DataFrame(resultados)
resultados_df.to_csv('dimensiones_mes2.csv', index=False)
print("Resultados guardados en dimensiones_mes2.csv")
print(f"Total de patinetes usados: {resultados_df['patinetes_iniciales'].sum()}")








# Leer el archivo CSV
df = pd.read_csv("df_with_clusters.csv")
df['tsD'] = pd.to_datetime(df['tsD'], format='%d/%m/%Y %H:%M:%S', dayfirst=True)
df['tsO'] = pd.to_datetime(df['tsO'], format='%Y-%m-%d %H:%M:%S', dayfirst=False)

# Crear DataFrame combinado
df_tsO_clusterO = df[['tsO', 'clusterO']].copy()
df_tsD_clusterD = df[['tsD', 'clusterD']].copy()

df_tsO_clusterO['tipo'] = 'origen'
df_tsD_clusterD['tipo'] = 'destino'

df_tsO_clusterO.rename(columns={'tsO': 'ts', 'clusterO': 'nodo'}, inplace=True)
df_tsD_clusterD.rename(columns={'tsD': 'ts', 'clusterD': 'nodo'}, inplace=True)

df_combinado = pd.concat([df_tsO_clusterO, df_tsD_clusterD], ignore_index=True)
df_combinado.sort_values(by='ts', inplace=True)
df_combinado.reset_index(drop=True, inplace=True)
print(df_combinado.head()), len(df), len(df_combinado)


# Inicializar las estaciones
from datetime import datetime as dt, timedelta
# Inicializar las estaciones
num_estaciones = 40
estaciones = {
    i: {
        "patinetes_iniciales":1,
        "patinetes_disponibles": 1,  # Inicialmente un patinete
        "slots": 1  # Inicialmente un slot
    }
    for i in range(num_estaciones)
}

# Filtrar datos por día y simular
inicio_mes = dt(2021, 2, 1)
fin_mes = dt(2021, 2, 28)

for dia in range((fin_mes - inicio_mes).days + 1):
    fecha_actual = inicio_mes + timedelta(days=dia)
    siguiente_dia = fecha_actual + timedelta(days=1)

    # Filtrar datos del día actual
    df_dia = df_combinado[(df_combinado['ts'] >= fecha_actual) & (df_combinado['ts'] < siguiente_dia)]

    # Simular eventos
    for _, evento in df_dia.iterrows():
        nodo = evento['nodo']
        tipo = evento['tipo']

        if tipo == 'origen':
            if estaciones[nodo]['patinetes_disponibles'] > 0:
                estaciones[nodo]['patinetes_disponibles'] -= 1
            else:
                estaciones[nodo]['patinetes_iniciales'] += 1
                estaciones[nodo]['patinetes_disponibles'] = 0
                if estaciones[nodo]['patinetes_iniciales'] > estaciones[nodo]['slots']:
                    estaciones[nodo]['slots'] += 1

        elif tipo == 'destino':
            if estaciones[nodo]['patinetes_disponibles'] < estaciones[nodo]['slots']:
                estaciones[nodo]['patinetes_disponibles'] += 1
            else:
                estaciones[nodo]['slots'] += 1
                estaciones[nodo]['patinetes_disponibles'] += 1

    # Realizar la redistribución semanal al final del domingo
    if fecha_actual.weekday() == 0:  # Domingo
        for nodo, datos in estaciones.items():
            estaciones[nodo]['patinetes_disponibles'] = estaciones[nodo]['patinetes_iniciales']

print("Simulación terminada")

# Guardar los resultados en un archivo CSV
resultados = []
for nodo, datos in estaciones.items():
    resultados.append({
        'estacion': nodo,
        'patinetes_iniciales': datos['patinetes_iniciales'],
        'slots': datos['slots']
    })

resultados_df = pd.DataFrame(resultados)
resultados_df.to_csv('dimensiones_semanas1.csv', index=False)
print("Resultados guardados en dimensiones_semanas1.csv")
print(f"Total de patinetes usados: {resultados_df['patinetes_iniciales'].sum()}")





# Leer el archivo CSV
df = pd.read_csv("df_with_clusters2.csv")
df['tsD'] = pd.to_datetime(df['tsD'], format='%d/%m/%Y %H:%M:%S', dayfirst=True)
df['tsO'] = pd.to_datetime(df['tsO'], format='%Y-%m-%d %H:%M:%S', dayfirst=False)

# Crear DataFrame combinado
df_tsO_clusterO = df[['tsO', 'clusterO']].copy()
df_tsD_clusterD = df[['tsD', 'clusterD']].copy()

df_tsO_clusterO['tipo'] = 'origen'
df_tsD_clusterD['tipo'] = 'destino'

df_tsO_clusterO.rename(columns={'tsO': 'ts', 'clusterO': 'nodo'}, inplace=True)
df_tsD_clusterD.rename(columns={'tsD': 'ts', 'clusterD': 'nodo'}, inplace=True)

df_combinado = pd.concat([df_tsO_clusterO, df_tsD_clusterD], ignore_index=True)
df_combinado.sort_values(by='ts', inplace=True)
df_combinado.reset_index(drop=True, inplace=True)
print(df_combinado.head()), len(df), len(df_combinado)


# Inicializar las estaciones
from datetime import datetime as dt, timedelta
# Inicializar las estaciones
num_estaciones = 79
estaciones = {
    i: {
        "patinetes_iniciales":1,
        "patinetes_disponibles": 1,  # Inicialmente un patinete
        "slots": 1  # Inicialmente un slot
    }
    for i in range(num_estaciones)
}

# Filtrar datos por día y simular
inicio_mes = dt(2021, 2, 1)
fin_mes = dt(2021, 2, 28)

for dia in range((fin_mes - inicio_mes).days + 1):
    fecha_actual = inicio_mes + timedelta(days=dia)
    siguiente_dia = fecha_actual + timedelta(days=1)

    # Filtrar datos del día actual
    df_dia = df_combinado[(df_combinado['ts'] >= fecha_actual) & (df_combinado['ts'] < siguiente_dia)]

    # Simular eventos
    for _, evento in df_dia.iterrows():
        nodo = evento['nodo']
        tipo = evento['tipo']

        if tipo == 'origen':
            if estaciones[nodo]['patinetes_disponibles'] > 0:
                estaciones[nodo]['patinetes_disponibles'] -= 1
            else:
                estaciones[nodo]['patinetes_iniciales'] += 1
                estaciones[nodo]['patinetes_disponibles'] = 0
                if estaciones[nodo]['patinetes_iniciales'] > estaciones[nodo]['slots']:
                    estaciones[nodo]['slots'] += 1

        elif tipo == 'destino':
            if estaciones[nodo]['patinetes_disponibles'] < estaciones[nodo]['slots']:
                estaciones[nodo]['patinetes_disponibles'] += 1
            else:
                estaciones[nodo]['slots'] += 1
                estaciones[nodo]['patinetes_disponibles'] += 1

    # Realizar la redistribución semanal al final del domingo
    if fecha_actual.weekday() == 0:  # Domingo
        for nodo, datos in estaciones.items():
            estaciones[nodo]['patinetes_disponibles'] = estaciones[nodo]['patinetes_iniciales']

print("Simulación terminada")

# Guardar los resultados en un archivo CSV
resultados = []
for nodo, datos in estaciones.items():
    resultados.append({
        'estacion': nodo,
        'patinetes_iniciales': datos['patinetes_iniciales'],
        'slots': datos['slots']
    })

resultados_df = pd.DataFrame(resultados)
resultados_df.to_csv('dimensiones_semanas2.csv', index=False)
print("Resultados guardados en dimensiones_semanas2.csv")
print(f"Total de patinetes usados: {resultados_df['patinetes_iniciales'].sum()}")





df = pd.read_csv("df_with_clusters.csv")
df_intra_cluster = df[df['clusterO'] == df['clusterD']]
df_intra_cluster['tt'].describe()


# Calcular la cantidad de filas que se perderían
filas_perdidas = 0.147 * len(df) #Hay un 37% de viajes intra-cluster con 40 clúster y un 22.3% con 79 clústers

# Calcular el valor asociado a las filas perdidas: nª de filas * tiempo medio de esos trayectos * precio por segundo
valor_perdido_mensual = filas_perdidas * np.mean(df_intra_cluster['tt']) * (sum(df_intra_cluster['price']) / sum(df_intra_cluster['tt']))

# Imprimir los resultados con formato
print(f'Con 40 clústers se perderían {filas_perdidas:,.0f} viajes.')
print(f'Se perderían {valor_perdido_mensual:,.2f} €')






precio_enchufe = 1657.66
area_slot = 0.566 * 1.1 #Área de un patinete + un márgen del 10
precio_panel_m2 = 700 # https://www.idealista.com/news/inmobiliario/vivienda/2021/02/22/789196-cuanto-cuesta-poner-paneles-solares-en-casa

diario_40 = pd.read_csv("dimensiones_mes1.csv")
diario_79 = pd.read_csv("dimensiones_mes2.csv")
semanal_40 = pd.read_csv("dimensiones_semanas1.csv")
semanal_79 = pd.read_csv("dimensiones_semanas2.csv")

slots_diario_40 = diario_40['slots'].sum()
patinetes_diario_40 = diario_40['patinetes_iniciales'].sum()
slots_diario_79 = diario_79['slots'].sum()
patinetes_diario_79 = diario_79['patinetes_iniciales'].sum()
slots_semanal_40 = semanal_40['slots'].sum()
patinetes_semanal_40 = semanal_40['patinetes_iniciales'].sum()
slots_semanal_79 = semanal_79['slots'].sum()
patinetes_semanal_79 = semanal_79['patinetes_iniciales'].sum()

inversion_40_diario = (area_slot * slots_diario_40 * precio_panel_m2) + (slots_diario_40 * precio_enchufe)
inversion_79_diario = (area_slot * slots_diario_79 * precio_panel_m2) + (slots_diario_79 * precio_enchufe)
inversion_40_semanal = (area_slot * slots_semanal_40 * precio_panel_m2) + (slots_semanal_40 * precio_enchufe)
inversion_79_semanal = (area_slot * slots_semanal_79 * precio_panel_m2) + (slots_semanal_79 * precio_enchufe)

# Resultados
print(f"Inversión inicial para 40 clústeres diarios: {inversion_40_diario:,.2f} €")
print(f"Inversión inicial para 79 clústeres diarios: {inversion_79_diario:,.2f} €")
print(f"Inversión inicial para 40 clústeres semanales: {inversion_40_semanal:,.2f} €")
print(f"Inversión inicial para 79 clústeres semanales: {inversion_79_semanal:,.2f} €")





df1 = pd.read_csv('df_with_clusters.csv')
df2 = pd.read_csv('df_with_clusters2.csv')
ganancias_mensuales_40 = df1['price'].sum()
ganancias_mensuales_79 = df2['price'].sum()-valor_perdido_mensual
print(f'Ganancias mensuales con 40 estaciones: {ganancias_mensuales_40}')
print(f'Ganancias mensuales con 79 estaciones: {ganancias_mensuales_79}')


# Calcular el periodo de retorno (inversión inicial / ganancias mensuales)
retorno_40_diario = inversion_40_diario / ganancias_mensuales_40
retorno_79_diario = inversion_79_diario / ganancias_mensuales_79
retorno_40_semanal = inversion_40_semanal / ganancias_mensuales_40
retorno_79_semanal = inversion_79_semanal / ganancias_mensuales_79

# Imprimir los resultados con formato
print(f"Periodo de retorno para 40 clústeres diarios: {retorno_40_diario:.2f} meses")
print(f"Periodo de retorno para 79 clústeres diarios: {retorno_79_diario:.2f} meses")
print(f"Periodo de retorno para 40 clústeres semanales: {retorno_40_semanal:.2f} meses")
print(f"Periodo de retorno para 79 clústeres semanales: {retorno_79_semanal:.2f} meses")




