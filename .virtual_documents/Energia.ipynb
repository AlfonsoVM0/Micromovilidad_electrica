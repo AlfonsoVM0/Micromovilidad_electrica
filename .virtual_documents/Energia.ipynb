


import plotly.express as px
import plotly.graph_objects as go
import pandas as pd
import numpy as npA
from datetime import timedelta, datetime
from ipywidgets import interact, widgets
import matplotlib.pyplot as plt
import matplotlib.colors as mcolors
from matplotlib.colors import ListedColormap
import matplotlib.cm as cm
import seaborn as sns
import os
import folium
from folium.plugins import HeatMap
from folium.plugins import HeatMapWithTime
import datetime
from sklearn.cluster import KMeans
from geopy.distance import geodesic 
import warnings
from collections import defaultdict
import requests


df = pd.read_csv("cluster_metrics.csv")
# Supongamos que tu DataFrame se llama df y tiene las columnas 'Centroide_Lat' y 'Centroide_Lon'
# Redondear las coordenadas a 3 decimales
df['Lat_Rounded'] = df['Centroide_Lat'].round(3)
df['Lon_Rounded'] = df['Centroide_Lon'].round(3)

# Eliminar filas duplicadas basadas en las coordenadas redondeadas
unique_coords = df[['Lat_Rounded', 'Lon_Rounded']].drop_duplicates()

# Crear un diccionario para almacenar las altitudes
altitudes = {}

# Iterar sobre las coordenadas únicas y hacer solicitudes a la API
for _, row in unique_coords.iterrows():
    lat = row['Lat_Rounded']
    lon = row['Lon_Rounded']
    url = f'https://api.open-meteo.com/v1/elevation?latitude={lat}&longitude={lon}'
    response = requests.get(url)
    if response.status_code == 200:
        data = response.json()
        elevation = data.get('elevation', None)
        if elevation is not None:
            # Convertir la altitud a cadena y eliminar corchetes si existen
            elevation_str = str(elevation).replace('[', '').replace(']', '')
            altitudes[(lat, lon)] = elevation_str
        else:
            altitudes[(lat, lon)] = None
    else:
        altitudes[(lat, lon)] = None

# Crear una nueva columna en el DataFrame original para las altitudes
df['Altitud'] = df.apply(lambda x: altitudes.get((x['Lat_Rounded'], x['Lon_Rounded'])), axis=1)

# Eliminar las columnas temporales
df.drop(columns=['Lat_Rounded', 'Lon_Rounded'], inplace=True)
df





import pandas as pd

# Verificar los tipos de datos
print(df.dtypes)

# Parámetros del patinete
consumo_base = 13.5  # Consumo base en Wh/km
k_inclinacion = 0.1  # Factor de ajuste por inclinación (aumenta el consumo por cada 1% de inclinación)

# Convertir a numérico
df['Altitud'] = pd.to_numeric(df['Altitud'], errors='coerce')
df['Distancia_Media_km'] = pd.to_numeric(df['Distancia_Media_km'], errors='coerce')

# Manejar valores nulos
df = df.dropna(subset=['Altitud', 'Distancia_Media_km'])

# Función para calcular el consumo energético de cada viaje
def calcular_consumo(row):
    distancia_km = row['Distancia_Media_km'] / 1000  # Convertimos de metros a kilómetros
    consumo_ajustado = consumo_base * (1 + k_inclinacion * row['Altitud'] / 100)
    consumo_energia = consumo_ajustado * distancia_km  # en Wh
    return consumo_energia

# Calcular el consumo de energía
df['consumo_energia'] = df.apply(calcular_consumo, axis=1)

# Mostrar resultados
print(df[['Cluster_ID', 'Distancia_Media_km', 'Altitud', 'consumo_energia']].head())






df = pd.read_csv("df_with_clusters.csv")

# Definir la capacidad de la batería y el tiempo de recarga
capacidad_bateria = 576  # en Wh
tiempo_recarga = 7  # en horas

# Calcular la potencia demandada por cada patinete (en W)
potencia_demandada_por_patinete = capacidad_bateria / tiempo_recarga  # en W

# Función para calcular la energía demandada por cada estación en un intervalo de tiempo
def calcular_demanda_energia(df, intervalo='H'):
    # Agrupar los datos por cluster de origen (estaciones) y por hora
    df['tsO'] = pd.to_datetime(df['tsO'])  # Asegurarse de que 'tsO' es tipo datetime
    df['hora'] = df['tsO'].dt.floor(intervalo)  # Redondear la hora a intervalos

    # Contar cuántos patinetes recargan en cada intervalo de tiempo y estación (clúster de origen)
    demanda_por_intervalo = df.groupby(['clusterO', 'hora']).size().reset_index(name='num_patinetes')

    # Calcular la demanda de energía en Wh por cada intervalo de tiempo
    demanda_por_intervalo['energia_demandada'] = demanda_por_intervalo['num_patinetes'] * potencia_demandada_por_patinete

    return demanda_por_intervalo

# Llamar a la función y obtener el resultado
demanda_energia = calcular_demanda_energia(df)
print(demanda_energia)






df = pd.read_csv("cluster_metrics2.csv")
# Supongamos que tu DataFrame se llama df y tiene las columnas 'Centroide_Lat' y 'Centroide_Lon'
# Redondear las coordenadas a 3 decimales
df['Lat_Rounded'] = df['Centroide_Lat'].round(3)
df['Lon_Rounded'] = df['Centroide_Lon'].round(3)

# Eliminar filas duplicadas basadas en las coordenadas redondeadas
unique_coords = df[['Lat_Rounded', 'Lon_Rounded']].drop_duplicates()

# Crear un diccionario para almacenar las altitudes
altitudes = {}

# Iterar sobre las coordenadas únicas y hacer solicitudes a la API
for _, row in unique_coords.iterrows():
    lat = row['Lat_Rounded']
    lon = row['Lon_Rounded']
    url = f'https://api.open-meteo.com/v1/elevation?latitude={lat}&longitude={lon}'
    response = requests.get(url)
    if response.status_code == 200:
        data = response.json()
        elevation = data.get('elevation', None)
        if elevation is not None:
            # Convertir la altitud a cadena y eliminar corchetes si existen
            elevation_str = str(elevation).replace('[', '').replace(']', '')
            altitudes[(lat, lon)] = elevation_str
        else:
            altitudes[(lat, lon)] = None
    else:
        altitudes[(lat, lon)] = None

# Crear una nueva columna en el DataFrame original para las altitudes
df['Altitud'] = df.apply(lambda x: altitudes.get((x['Lat_Rounded'], x['Lon_Rounded'])), axis=1)

# Eliminar las columnas temporales
df.drop(columns=['Lat_Rounded', 'Lon_Rounded'], inplace=True)
df





import pandas as pd

# Verificar los tipos de datos
print(df.dtypes)

# Convertir a numérico
df['Altitud'] = pd.to_numeric(df['Altitud'], errors='coerce')
df['Distancia_Media_km'] = pd.to_numeric(df['Distancia_Media_km'], errors='coerce')

# Manejar valores nulos
df = df.dropna(subset=['Altitud', 'Distancia_Media_km'])

# Función para calcular el consumo energético de cada viaje
def calcular_consumo(row):
    distancia_km = row['Distancia_Media_km'] / 1000  # Convertimos de metros a kilómetros
    consumo_ajustado = consumo_base * (1 + k_inclinacion * row['Altitud'] / 100)
    consumo_energia = consumo_ajustado * distancia_km  # en Wh
    return consumo_energia

# Calcular el consumo de energía
df['consumo_energia'] = df.apply(calcular_consumo, axis=1)

# Mostrar resultados
print(df[['Cluster_ID', 'Distancia_Media_km', 'Altitud', 'consumo_energia']].head())






df = pd.read_csv("df_with_clusters2.csv")

# Definir la capacidad de la batería y el tiempo de recarga
capacidad_bateria = 576  # en Wh
tiempo_recarga = 7  # en horas

# Calcular la potencia demandada por cada patinete (en W)
potencia_demandada_por_patinete = capacidad_bateria / tiempo_recarga  # en W

# Función para calcular la energía demandada por cada estación en un intervalo de tiempo
def calcular_demanda_energia(df, intervalo='H'):
    # Agrupar los datos por cluster de origen (estaciones) y por hora
    df['tsO'] = pd.to_datetime(df['tsO'])  # Asegurarse de que 'tsO' es tipo datetime
    df['hora'] = df['tsO'].dt.floor(intervalo)  # Redondear la hora a intervalos

    # Contar cuántos patinetes recargan en cada intervalo de tiempo y estación (clúster de origen)
    demanda_por_intervalo = df.groupby(['clusterO', 'hora']).size().reset_index(name='num_patinetes')

    # Calcular la demanda de energía en Wh por cada intervalo de tiempo
    demanda_por_intervalo['energia_demandada'] = demanda_por_intervalo['num_patinetes'] * potencia_demandada_por_patinete

    return demanda_por_intervalo

# Llamar a la función y obtener el resultado
demanda_energia = calcular_demanda_energia(df)
print(demanda_energia)



import pandas as pd
import numpy as np
import matplotlib.pyplot as plt

# Definir la capacidad de la batería y el tiempo de recarga
capacidad_bateria = 576  # en Wh
tiempo_recarga = 7  # en horas

# Calcular la potencia demandada por cada patinete (en W)
potencia_demandada_por_patinete = capacidad_bateria / tiempo_recarga  # en W

# Función para calcular la energía demandada por cada estación en cada hora
def calcular_demanda_energia(df, intervalo='H'):
    # Convertir la columna 'tsO' a datetime
    df['tsO'] = pd.to_datetime(df['tsO'])  # Asegurarse de que 'tsO' es tipo datetime
    df['hora'] = df['tsO'].dt.hour  # Extraer solo la hora del día

    # Contar cuántos patinetes recargan en cada hora
    demanda_por_intervalo = df.groupby(['hora']).size().reset_index(name='num_patinetes')

    # Calcular la demanda de energía en Wh por cada intervalo de hora
    demanda_por_intervalo['energia_demandada'] = demanda_por_intervalo['num_patinetes'] * potencia_demandada_por_patinete

    return demanda_por_intervalo



# Calcular la demanda de energía por hora
demanda_energia = calcular_demanda_energia(df)

# Graficar la demanda de energía por hora del día
plt.figure(figsize=(10, 6))
plt.plot(demanda_energia['hora'], demanda_energia['energia_demandada'], marker='o', linestyle='-', color='b')

plt.xlabel('Hora del día')
plt.ylabel('Energía demandada (Wh)')
plt.title('Demanda de energía por hora del día en las estaciones de recarga')
plt.grid(True)
plt.xticks(np.arange(0, 24, 1))  # Marcar cada hora
plt.show()



import pandas as pd
import numpy as np
import plotly.graph_objects as go

# Definir la capacidad de la batería y el tiempo de recarga
capacidad_bateria = 576  # en Wh
tiempo_recarga = 7  # en horas

# Calcular la potencia demandada por cada patinete (en W)
potencia_demandada_por_patinete = capacidad_bateria / tiempo_recarga  # en W

# Función para calcular la demanda de energía por estación y por hora
def calcular_demanda_energia(df, intervalo='H'):
    # Convertir la columna 'tsO' a datetime
    df['tsO'] = pd.to_datetime(df['tsO'])  # Asegurarse de que 'tsO' es tipo datetime
    df['hora'] = df['tsO'].dt.hour  # Extraer solo la hora del día

    # Contar cuántos patinetes recargan en cada estación y hora
    demanda_por_intervalo = df.groupby(['hora', 'clusterO']).size().reset_index(name='num_patinetes')

    # Calcular la demanda de energía en Wh por cada intervalo de hora y estación
    demanda_por_intervalo['energia_demandada'] = demanda_por_intervalo['num_patinetes'] * potencia_demandada_por_patinete

    return demanda_por_intervalo


# Calcular la demanda de energía por hora y por estación
demanda_energia = calcular_demanda_energia(df)

# Crear un gráfico interactivo de la demanda de energía por estación y por hora
fig = go.Figure()

# Usamos un gráfico de líneas para cada estación (grupo 'clusterO')
for estacion in demanda_energia['clusterO'].unique():
    estacion_data = demanda_energia[demanda_energia['clusterO'] == estacion]
    fig.add_trace(go.Scatter(
        x=estacion_data['hora'],
        y=estacion_data['energia_demandada'],
        mode='lines+markers',
        name=f'Cluster {estacion}',
        hovertemplate='Hora: %{x}<br>Demanda Energía: %{y} Wh'
    ))

# Añadir título y etiquetas
fig.update_layout(
    title='Demanda de Energía por Hora y Estación de Recarga',
    xaxis_title='Hora del Día',
    yaxis_title='Energía Demandada (Wh)',
    template='plotly_dark',  # Opcional: Puedes cambiar el tema a "plotly", "ggplot2", "seaborn", etc.
    showlegend=True
)

# Mostrar el gráfico
fig.show()



import pandas as pd
import numpy as np
import plotly.graph_objects as go

# Definir la capacidad de la batería y el tiempo de recarga
capacidad_bateria = 576  # en Wh
tiempo_recarga = 7  # en horas

# Calcular la potencia demandada por cada patinete (en W)
potencia_demandada_por_patinete = capacidad_bateria / tiempo_recarga  # en W

# Función para calcular la demanda de energía por estación y por hora
def calcular_demanda_energia(df):
    # Convertir la columna 'tsO' a datetime
    df['tsO'] = pd.to_datetime(df['tsO'])  # Asegurarse de que 'tsO' es tipo datetime
    df['hora'] = df['tsO'].dt.hour  # Extraer solo la hora del día

    # Contar cuántos patinetes recargan en cada estación y hora
    demanda_por_intervalo = df.groupby(['hora', 'clusterO']).size().reset_index(name='num_patinetes')

    # Calcular la demanda de energía en Wh por cada intervalo de hora y estación
    demanda_por_intervalo['energia_demandada'] = demanda_por_intervalo['num_patinetes'] * potencia_demandada_por_patinete

    return demanda_por_intervalo


# Calcular la demanda de energía por hora y por estación
demanda_energia = calcular_demanda_energia(df)

# Crear un gráfico interactivo para cada cluster
for estacion in demanda_energia['clusterO'].unique():
    estacion_data = demanda_energia[demanda_energia['clusterO'] == estacion]
    
    # Crear el gráfico para cada estación
    fig = go.Figure()

    fig.add_trace(go.Scatter(
        x=estacion_data['hora'],
        y=estacion_data['energia_demandada'],
        mode='lines+markers',
        name=f'Cluster {estacion}',
        hovertemplate='Hora: %{x}<br>Demanda Energía: %{y} Wh'
    ))

    # Añadir título y etiquetas
    fig.update_layout(
        title=f'Demanda de Energía por Hora en Estación {estacion}',
        xaxis_title='Hora del Día',
        yaxis_title='Energía Demandada (Wh)',
        template='plotly_dark',  # Opcional: Puedes cambiar el tema a "plotly", "ggplot2", "seaborn", etc.
        showlegend=True
    )

    # Mostrar el gráfico
    fig.show()




